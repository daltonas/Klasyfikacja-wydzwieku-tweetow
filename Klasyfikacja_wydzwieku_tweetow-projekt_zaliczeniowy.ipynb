{
 "cells": [
  {
   "cell_type": "markdown",
   "metadata": {},
   "source": [
    "# Klasyfikacja wydzwięku twetów"
   ]
  },
  {
   "cell_type": "markdown",
   "metadata": {},
   "source": [
    "Celem poniższego projektu jest próba przewidzenia sentymentu (pozytywnego / negatywnwgo) zawartego w wiadomościach udostępnianych w serwisie Tweeter."
   ]
  },
  {
   "cell_type": "markdown",
   "metadata": {},
   "source": [
    "W pierwszym kroku importowane są wszystkie bibkioteki wykożystywane w projekcie"
   ]
  },
  {
   "cell_type": "code",
   "execution_count": 1,
   "metadata": {},
   "outputs": [],
   "source": [
    "import pandas as pd\n",
    "import numpy as np\n",
    "import nltk\n",
    "import string\n",
    "import random\n",
    "import matplotlib.pyplot as plt\n",
    "%matplotlib inline\n",
    "\n",
    "from collections import Counter\n",
    "from nltk.stem import WordNetLemmatizer\n",
    "from nltk.tokenize import word_tokenize\n",
    "from nltk.corpus import stopwords\n",
    "\n",
    "from sklearn.feature_extraction.text import CountVectorizer, TfidfVectorizer\n",
    "from sklearn import metrics\n",
    "from sklearn.decomposition import TruncatedSVD\n",
    "from sklearn.model_selection import train_test_split, StratifiedKFold\n",
    "from sklearn.tree import DecisionTreeClassifier\n",
    "from sklearn.pipeline import Pipeline, make_pipeline\n",
    "from sklearn.model_selection import GridSearchCV\n",
    "from sklearn.linear_model import LogisticRegression\n",
    "from sklearn.ensemble import RandomForestClassifier\n",
    "from sklearn.svm import SVC"
   ]
  },
  {
   "cell_type": "markdown",
   "metadata": {},
   "source": [
    "Pobieranie danych. <br />\n",
    "Połaczenie 3 zbiorów w jeden obiekt DataFrame"
   ]
  },
  {
   "cell_type": "code",
   "execution_count": 2,
   "metadata": {},
   "outputs": [
    {
     "data": {
      "text/html": [
       "<div>\n",
       "<style scoped>\n",
       "    .dataframe tbody tr th:only-of-type {\n",
       "        vertical-align: middle;\n",
       "    }\n",
       "\n",
       "    .dataframe tbody tr th {\n",
       "        vertical-align: top;\n",
       "    }\n",
       "\n",
       "    .dataframe thead th {\n",
       "        text-align: right;\n",
       "    }\n",
       "</style>\n",
       "<table border=\"1\" class=\"dataframe\">\n",
       "  <thead>\n",
       "    <tr style=\"text-align: right;\">\n",
       "      <th></th>\n",
       "      <th>index</th>\n",
       "      <th>Tresc</th>\n",
       "      <th>Klasyfikacja</th>\n",
       "    </tr>\n",
       "  </thead>\n",
       "  <tbody>\n",
       "    <tr>\n",
       "      <th>0</th>\n",
       "      <td>0</td>\n",
       "      <td>So there is no way for me to plug it in here i...</td>\n",
       "      <td>0</td>\n",
       "    </tr>\n",
       "    <tr>\n",
       "      <th>1</th>\n",
       "      <td>1</td>\n",
       "      <td>Good case, Excellent value.</td>\n",
       "      <td>1</td>\n",
       "    </tr>\n",
       "    <tr>\n",
       "      <th>2</th>\n",
       "      <td>2</td>\n",
       "      <td>Great for the jawbone.</td>\n",
       "      <td>1</td>\n",
       "    </tr>\n",
       "    <tr>\n",
       "      <th>3</th>\n",
       "      <td>3</td>\n",
       "      <td>Tied to charger for conversations lasting more...</td>\n",
       "      <td>0</td>\n",
       "    </tr>\n",
       "    <tr>\n",
       "      <th>4</th>\n",
       "      <td>4</td>\n",
       "      <td>The mic is great.</td>\n",
       "      <td>1</td>\n",
       "    </tr>\n",
       "  </tbody>\n",
       "</table>\n",
       "</div>"
      ],
      "text/plain": [
       "   index                                              Tresc  Klasyfikacja\n",
       "0      0  So there is no way for me to plug it in here i...             0\n",
       "1      1                        Good case, Excellent value.             1\n",
       "2      2                             Great for the jawbone.             1\n",
       "3      3  Tied to charger for conversations lasting more...             0\n",
       "4      4                                  The mic is great.             1"
      ]
     },
     "execution_count": 2,
     "metadata": {},
     "output_type": "execute_result"
    }
   ],
   "source": [
    "nazwy_kolumn = [\"Tresc\", \"Klasyfikacja\"]\n",
    "tweet_set1 = pd.read_table(\"./zrodlo/amazon_cells_labelled.txt\", delimiter=\"\\t\", header=None, names=nazwy_kolumn, encoding=\"utf-8\")\n",
    "tweet_set2 = pd.read_table(\"./zrodlo/imdb_labelled.txt\", delimiter=\"\\t\", header=None, names=nazwy_kolumn, encoding=\"utf-8\")\n",
    "tweet_set3 = pd.read_table(\"./zrodlo/yelp_labelled.txt\", delimiter=\"\\t\", header=None, names=nazwy_kolumn, encoding=\"utf-8\")\n",
    "\n",
    "df_tweet = tweet_set1.append(tweet_set2).append(tweet_set3)\n",
    "df_tweet.reset_index(inplace=True)\n",
    "\n",
    "df_tweet.head()"
   ]
  },
  {
   "cell_type": "markdown",
   "metadata": {},
   "source": [
    "Usunięcie indexu"
   ]
  },
  {
   "cell_type": "code",
   "execution_count": 3,
   "metadata": {},
   "outputs": [
    {
     "data": {
      "text/html": [
       "<div>\n",
       "<style scoped>\n",
       "    .dataframe tbody tr th:only-of-type {\n",
       "        vertical-align: middle;\n",
       "    }\n",
       "\n",
       "    .dataframe tbody tr th {\n",
       "        vertical-align: top;\n",
       "    }\n",
       "\n",
       "    .dataframe thead th {\n",
       "        text-align: right;\n",
       "    }\n",
       "</style>\n",
       "<table border=\"1\" class=\"dataframe\">\n",
       "  <thead>\n",
       "    <tr style=\"text-align: right;\">\n",
       "      <th></th>\n",
       "      <th>Tresc</th>\n",
       "      <th>Klasyfikacja</th>\n",
       "    </tr>\n",
       "  </thead>\n",
       "  <tbody>\n",
       "    <tr>\n",
       "      <th>0</th>\n",
       "      <td>So there is no way for me to plug it in here i...</td>\n",
       "      <td>0</td>\n",
       "    </tr>\n",
       "    <tr>\n",
       "      <th>1</th>\n",
       "      <td>Good case, Excellent value.</td>\n",
       "      <td>1</td>\n",
       "    </tr>\n",
       "    <tr>\n",
       "      <th>2</th>\n",
       "      <td>Great for the jawbone.</td>\n",
       "      <td>1</td>\n",
       "    </tr>\n",
       "  </tbody>\n",
       "</table>\n",
       "</div>"
      ],
      "text/plain": [
       "                                               Tresc  Klasyfikacja\n",
       "0  So there is no way for me to plug it in here i...             0\n",
       "1                        Good case, Excellent value.             1\n",
       "2                             Great for the jawbone.             1"
      ]
     },
     "execution_count": 3,
     "metadata": {},
     "output_type": "execute_result"
    }
   ],
   "source": [
    "df_tweet = df_tweet.drop(['index'], axis=1)\n",
    "df_tweet.head(3)"
   ]
  },
  {
   "cell_type": "markdown",
   "metadata": {},
   "source": [
    "Porównanie ilości tweetów pozytywnych vs negatywnych"
   ]
  },
  {
   "cell_type": "code",
   "execution_count": 4,
   "metadata": {},
   "outputs": [
    {
     "name": "stdout",
     "output_type": "stream",
     "text": [
      "         Ilośc tweetów pozytywnych:  1386\n",
      "         Ilośc tweetów negatwynych:  1362\n",
      " Ilośc wszystkich badanych tweetów:  2748\n"
     ]
    }
   ],
   "source": [
    "pozytywne_filtr = df_tweet['Klasyfikacja'] == 1\n",
    "pozytywne = df_tweet[pozytywne_filtr]\n",
    "\n",
    "negatywne_filtr = df_tweet['Klasyfikacja'] == 0\n",
    "negatywne = df_tweet[negatywne_filtr]\n",
    "\n",
    "print('%35s %5d' %('Ilośc tweetów pozytywnych:', len(pozytywne)))\n",
    "print('%35s %5d' %('Ilośc tweetów negatwynych:', len(negatywne)))\n",
    "print('%35s %5d' %('Ilośc wszystkich badanych tweetów:', df_tweet.shape[0]))"
   ]
  },
  {
   "cell_type": "markdown",
   "metadata": {},
   "source": [
    "20 najczęściej używanych słów w całym zbiorze danych"
   ]
  },
  {
   "cell_type": "code",
   "execution_count": 5,
   "metadata": {},
   "outputs": [
    {
     "name": "stdout",
     "output_type": "stream",
     "text": [
      "   Wszystkich słów w zbiorze danych jest: 372429\n",
      "   Unikalnych słów w zbiorze danych jest: 81039\n",
      "\n",
      "\n",
      "20 najczęściej występujących słów to:\n",
      " [('', 1752), ('the', 1473), ('and', 1095), ('a', 846), ('I', 825), ('is', 730), ('to', 652), ('of', 608), ('was', 557), ('this', 442), ('The', 415), ('it', 396), ('in', 373), ('for', 315), ('that', 275), ('with', 263), ('not', 256), ('my', 212), ('on', 203), ('very', 194)]\n"
     ]
    },
    {
     "data": {
      "image/png": "[encoded data removed]",
      "text/plain": [
       "<Figure size 1008x432 with 1 Axes>"
      ]
     },
     "metadata": {
      "needs_background": "light"
     },
     "output_type": "display_data"
    }
   ],
   "source": [
    "wszystkie_slowa = []\n",
    "for wiersz in df_tweet[\"Tresc\"]:\n",
    "    for slowo in wiersz.split(' '):\n",
    "        wszystkie_slowa.append(slowo)\n",
    "    \n",
    "print('%41s %d9' %('Wszystkich słów w zbiorze danych jest:', len(wszystkie_slowa)))\n",
    "print('%41s %d9' %('Unikalnych słów w zbiorze danych jest:', len(set(wszystkie_slowa))))\n",
    "print(\"\\n\")\n",
    "print(\"20 najczęściej występujących słów to:\\n\",Counter(wszystkie_slowa).most_common(20))\n",
    "\n",
    "plt.figure(figsize=(14,6))\n",
    "plt.title('20 najcześciej używanych słów w zbiorze danych')\n",
    "plt.xticks(fontsize=11, rotation=90)\n",
    "fd = nltk.FreqDist(wszystkie_slowa)\n",
    "fd.plot(20)"
   ]
  },
  {
   "cell_type": "markdown",
   "metadata": {},
   "source": [
    "Funkcje wykorzystywane do czyszczenia wiadomości"
   ]
  },
  {
   "cell_type": "code",
   "execution_count": 6,
   "metadata": {},
   "outputs": [
    {
     "data": {
      "text/html": [
       "<div>\n",
       "<style scoped>\n",
       "    .dataframe tbody tr th:only-of-type {\n",
       "        vertical-align: middle;\n",
       "    }\n",
       "\n",
       "    .dataframe tbody tr th {\n",
       "        vertical-align: top;\n",
       "    }\n",
       "\n",
       "    .dataframe thead th {\n",
       "        text-align: right;\n",
       "    }\n",
       "</style>\n",
       "<table border=\"1\" class=\"dataframe\">\n",
       "  <thead>\n",
       "    <tr style=\"text-align: right;\">\n",
       "      <th></th>\n",
       "      <th>Tresc</th>\n",
       "      <th>Klasyfikacja</th>\n",
       "    </tr>\n",
       "  </thead>\n",
       "  <tbody>\n",
       "    <tr>\n",
       "      <th>0</th>\n",
       "      <td>So there is no way for me to plug it in here i...</td>\n",
       "      <td>0</td>\n",
       "    </tr>\n",
       "    <tr>\n",
       "      <th>1</th>\n",
       "      <td>Good case, Excellent value.</td>\n",
       "      <td>1</td>\n",
       "    </tr>\n",
       "    <tr>\n",
       "      <th>2</th>\n",
       "      <td>Great for the jawbone.</td>\n",
       "      <td>1</td>\n",
       "    </tr>\n",
       "    <tr>\n",
       "      <th>3</th>\n",
       "      <td>Tied to charger for conversations lasting more...</td>\n",
       "      <td>0</td>\n",
       "    </tr>\n",
       "    <tr>\n",
       "      <th>4</th>\n",
       "      <td>The mic is great.</td>\n",
       "      <td>1</td>\n",
       "    </tr>\n",
       "    <tr>\n",
       "      <th>5</th>\n",
       "      <td>I have to jiggle the plug to get it to line up...</td>\n",
       "      <td>0</td>\n",
       "    </tr>\n",
       "    <tr>\n",
       "      <th>6</th>\n",
       "      <td>If you have several dozen or several hundred c...</td>\n",
       "      <td>0</td>\n",
       "    </tr>\n",
       "  </tbody>\n",
       "</table>\n",
       "</div>"
      ],
      "text/plain": [
       "                                               Tresc  Klasyfikacja\n",
       "0  So there is no way for me to plug it in here i...             0\n",
       "1                        Good case, Excellent value.             1\n",
       "2                             Great for the jawbone.             1\n",
       "3  Tied to charger for conversations lasting more...             0\n",
       "4                                  The mic is great.             1\n",
       "5  I have to jiggle the plug to get it to line up...             0\n",
       "6  If you have several dozen or several hundred c...             0"
      ]
     },
     "execution_count": 6,
     "metadata": {},
     "output_type": "execute_result"
    }
   ],
   "source": [
    "def podzial_na_slowa(tweet):\n",
    "    return word_tokenize(tweet)\n",
    "\n",
    "def zamiana_cyfr_na_str(tweet):\n",
    "    tweet = [slowo if not slowo.isdigit() else \"<NUMBER>\" for slowo in tweet]\n",
    "    tweet = ''.join(tweet)\n",
    "    return tweet\n",
    "\n",
    "def zamiana_na_male_znaki(tweet):\n",
    "    tweet = [slowo.lower() for slowo in tweet]\n",
    "    tweet = ''.join(tweet)\n",
    "    return tweet\n",
    "\n",
    "def lematyzacja(tweet):\n",
    "    wordnet_lemmatizer = WordNetLemmatizer()\n",
    "    tweet = [wordnet_lemmatizer.lemmatize(slowo) for slowo in tweet]\n",
    "    tweet = ' '.join(tweet)\n",
    "    return tweet\n",
    "\n",
    "def usuniecie_interpunkcji(tweet):\n",
    "    tweet = [znak if not znak in string.punctuation else \" \" for znak in tweet]\n",
    "    tweet = ''.join(tweet)\n",
    "    return tweet\n",
    "\n",
    "def usuniecie_stopwords(tweet):\n",
    "    tweet = [slowo for slowo in tweet.split(' ') if slowo not in stopwords.words('english')]\n",
    "    return tweet\n",
    "\n",
    "def negacja(tweet):\n",
    "    tweet = [slowo.replace(\"n't\", \"<negation>\") for slowo in tweet]\n",
    "    tweet = ' '.join(tweet)\n",
    "    return tweet\n",
    "\n",
    "def usuniecie_duplikatow(tweet):\n",
    "    tweet = tweet.replace(\"  \",\"\")\n",
    "    tweet = tweet.replace(\"<NUMBER><NUMBER>\", \"\").strip()\n",
    "    return tweet\n",
    "\n",
    "def tokenizacja(tweet):\n",
    "    tweet = usuniecie_interpunkcji(tweet)\n",
    "    tweet = podzial_na_slowa(tweet)   \n",
    "    tweet = negacja(tweet)    \n",
    "    tweet = zamiana_na_male_znaki(tweet)\n",
    "    tweet = usuniecie_stopwords(tweet)\n",
    "    tweet = lematyzacja(tweet)\n",
    "    tweet = zamiana_cyfr_na_str(tweet)\n",
    "    tweet = usuniecie_duplikatow(tweet)\n",
    "    return tweet\n",
    "\n",
    "df_tweet.head(7)"
   ]
  },
  {
   "cell_type": "markdown",
   "metadata": {},
   "source": [
    "Wykonanie powyższych funkcji na zbiorze danych"
   ]
  },
  {
   "cell_type": "code",
   "execution_count": 7,
   "metadata": {},
   "outputs": [],
   "source": [
    "df_tweet[\"Tresc_wyczyszczona\"] = df_tweet[\"Tresc\"].apply(tokenizacja)"
   ]
  },
  {
   "cell_type": "markdown",
   "metadata": {},
   "source": [
    "Porównanie losowego tweeta przed i po czyszczeniu"
   ]
  },
  {
   "cell_type": "code",
   "execution_count": 8,
   "metadata": {},
   "outputs": [
    {
     "name": "stdout",
     "output_type": "stream",
     "text": [
      "Tweet przed czyszczeniem:\n",
      "I *heart* this place.\n",
      "\n",
      "\n",
      "Tweet po czyszczeniu:\n",
      "heart place\n"
     ]
    }
   ],
   "source": [
    "maximum = len(df_tweet) - 1\n",
    "a = random.randint(0, maximum)\n",
    "\n",
    "print(\"Tweet przed czyszczeniem:\")\n",
    "print(df_tweet['Tresc'][a])\n",
    "print('\\n')\n",
    "print(\"Tweet po czyszczeniu:\")\n",
    "print(df_tweet['Tresc_wyczyszczona'][a])"
   ]
  },
  {
   "cell_type": "markdown",
   "metadata": {},
   "source": [
    "15 najczęściej używanych słów po przeprocesowaniu wiadomości (tweetów)"
   ]
  },
  {
   "cell_type": "code",
   "execution_count": 9,
   "metadata": {},
   "outputs": [
    {
     "name": "stdout",
     "output_type": "stream",
     "text": [
      "Po wyczyszczeniu zbioru wszystkich słów zostało: 185459\n",
      "Po wyczyszczeniu zbioru unikalnych slow zostało: 45789\n",
      "\n",
      "\n",
      "15 najczęściej występujących słów to:\n",
      " [('<NUMBER>', 387), ('good', 230), ('movie', 212), ('great', 210), ('film', 187), ('phone', 178), ('one', 149), ('time', 134), ('like', 129), ('food', 127), ('place', 123), ('service', 110), ('work', 109), ('bad', 103), ('really', 103)]\n"
     ]
    },
    {
     "data": {
      "image/png": "[encoded data removed]",
      "text/plain": [
       "<Figure size 1008x432 with 1 Axes>"
      ]
     },
     "metadata": {
      "needs_background": "light"
     },
     "output_type": "display_data"
    }
   ],
   "source": [
    "wszystkie_slowa = []\n",
    "for wiersz in df_tweet[\"Tresc_wyczyszczona\"]:\n",
    "    for slowo in wiersz.split(' '):\n",
    "        wszystkie_slowa.append(slowo)\n",
    "    \n",
    "print('%44s %d9' %('Po wyczyszczeniu zbioru wszystkich słów zostało:', len(wszystkie_slowa)))\n",
    "print('%41s %d9' %('Po wyczyszczeniu zbioru unikalnych slow zostało:', len(set(wszystkie_slowa))))\n",
    "print(\"\\n\")\n",
    "print(\"15 najczęściej występujących słów to:\\n\",Counter(wszystkie_slowa).most_common(15))\n",
    "\n",
    "\n",
    "plt.figure(figsize=(14,6))\n",
    "plt.title('15 najcześciej używanych słów w zbiorze danych')\n",
    "plt.xticks(fontsize=11, rotation=90)\n",
    "fd = nltk.FreqDist(wszystkie_slowa)\n",
    "fd.plot(15)"
   ]
  },
  {
   "cell_type": "markdown",
   "metadata": {},
   "source": [
    "Reprezentacja danych:"
   ]
  },
  {
   "cell_type": "code",
   "execution_count": 10,
   "metadata": {
    "scrolled": true
   },
   "outputs": [
    {
     "name": "stdout",
     "output_type": "stream",
     "text": [
      "{'way': 4405, 'plug': 2959, 'unless': 4234, 'go': 1719, 'converter': 846, 'good': 1729, 'case': 573, 'excellent': 1377, 'value': 4294, 'great': 1757, 'jawbone': 2133, 'tied': 4045, 'charger': 623, 'conversation': 845, 'lasting': 2236, 'minute': 2524, 'major': 2404, 'problem': 3048, 'mic': 2504, 'jiggle': 2147, 'get': 1696, 'line': 2310, 'right': 3323, 'decent': 989, 'volume': 4354, 'several': 3524, 'dozen': 1168, 'hundred': 1958, 'contact': 820, 'imagine': 1992, 'fun': 1647, 'sending': 3494, 'one': 2731, 'razr': 3166, 'owner': 2793, 'must': 2602, 'needle': 2631, 'say': 3423, 'wasted': 4392, 'money': 2550, 'waste': 4391, 'time': 4049, 'sound': 3703, 'quality': 3125, 'impressed': 2003, 'going': 1724, 'original': 2754, 'battery': 312, 'extended': 1420, 'two': 4173, 'seperated': 3505, 'mere': 2491, 'number': 2690, 'ft': 1639, 'started': 3766, 'notice': 2686, 'excessive': 1384, 'static': 3771, 'garbled': 1668, 'headset': 1845, 'though': 4022, 'design': 1046, 'odd': 2707, 'ear': 1226, 'clip': 703, 'comfortable': 739, 'highly': 1885, 'recommend': 3201, 'blue': 397, 'tooth': 4084, 'phone': 2902, 'advise': 71, 'everyone': 1363, 'fooled': 1576, 'far': 1459, 'work': 4488, 'click': 698, 'place': 2927, 'make': 2406, 'wonder': 4477, 'long': 2341, 'mechanism': 2465, 'would': 4501, 'last': 2234, 'went': 4428, 'motorola': 2571, 'website': 4417, 'followed': 1570, 'direction': 1091, 'could': 872, 'pair': 2812, 'bought': 439, 'use': 4278, 'kindle': 2199, 'fire': 1519, 'absolutely': 9, 'loved': 2365, 'commercial': 749, 'misleading': 2530, 'yet': 4528, 'run': 3373, 'new': 2649, 'bar': 293, 'three': 4026, 'day': 973, 'without': 4470, 'charging': 624, 'mother': 2566, 'pocket': 2964, 'pc': 2855, 'combination': 733, 'owned': 2792, 'month': 2557, 'best': 355, 'mobile': 2539, 'think': 4013, 'instruction': 2071, 'provided': 3083, 'helpful': 1868, 'people': 2872, 'couldnt': 873, 'hear': 1847, 'talk': 3944, 'pull': 3098, 'earphone': 1234, 'hold': 1900, 'charge': 621, 'simple': 3594, 'little': 2325, 'breakage': 452, 'unacceptible': 4184, 'product': 3057, 'ideal': 1973, 'like': 2301, 'whose': 4442, 'sensitive': 3499, 'unusable': 4257, 'moving': 2581, 'car': 555, 'freeway': 1615, 'speed': 3725, 'year': 4521, 'left': 2270, 'contract': 835, 'hate': 1830, 'well': 4426, 'ac': 13, 'included': 2015, 'sure': 3899, 'never': 2646, 'juice': 2167, 'highy': 1886, 'recommended': 3203, 'need': 2629, 'least': 2265, 'min': 2517, 'book': 420, 'first': 1522, 'turn': 4167, 'life': 2294, 'short': 3567, 'kept': 2184, 'poor': 2980, 'performance': 2879, 'fine': 1513, 'worthless': 4498, 'camera': 535, 'thats': 4000, 'mp': 2584, 'pic': 2911, 'nice': 2652, 'clear': 692, 'picture': 2913, 'priced': 3038, 'garbage': 1667, 'audio': 239, 'bluetooth': 400, 'feature': 1478, 'want': 4376, 'mind': 2518, 'gon': 1727, 'na': 2605, 'buy': 511, 'arguing': 189, 'verizon': 4316, 'regarding': 3223, 'dropped': 1202, 'call': 528, 'returned': 3301, 'seems': 3486, 'made': 2389, 'disappointed': 1101, 'loud': 2357, 'enough': 1316, 'protection': 3075, 'bulky': 496, 'usable': 4275, 'keyboard': 2187, 'actually': 53, 'pda': 2856, 'real': 3174, 'world': 4492, 'useful': 4280, 'machine': 2387, 'instead': 2070, 'neat': 2627, 'gadget': 1659, 'pretty': 3034, 'sturdy': 3842, 'large': 2229, 'love': 2364, 'thing': 4012, 'everything': 1364, 'reasonable': 3182, 'price': 3037, 'even': 1355, 'stream': 3816, 'submerged': 3852, 'second': 3474, 'still': 3793, 'happy': 1824, 'complaint': 765, 'end': 1301, 'button': 510, 'bad': 278, 'essentially': 1343, 'forget': 1588, 'microsoft': 2508, 'tech': 3969, 'support': 3894, 'really': 3180, 'faceplate': 1432, 'since': 3599, 'look': 2343, 'elegant': 1273, 'cool': 854, 'headphone': 1844, 'find': 1512, 'perhaps': 2882, 'purchase': 3108, 'seriously': 3512, 'different': 1079, 'particular': 2835, 'angle': 138, 'party': 2837, 'clearly': 694, 'big': 361, 'drawback': 1179, 'player': 2944, 'front': 1631, 'cover': 883, 'let': 2284, 'pause': 2852, 'skip': 3619, 'song': 3689, 'lock': 2334, 'week': 4420, 'later': 2242, 'activated': 48, 'suddenly': 3868, 'died': 1076, 'feel': 1480, 'wear': 4412, 'glass': 1714, 'sometimes': 3685, 'ipod': 2108, 'device': 1066, 'situation': 3613, 'bmw': 403, 'series': 3510, 'fairly': 1442, 'quiet': 3132, 'trouble': 4147, 'hearing': 1849, 'person': 2887, 'saying': 3424, 'choice': 668, 'docking': 1143, 'station': 3772, 'home': 1909, 'beautiful': 320, 'wrongly': 4513, 'advertised': 70, 'item': 2122, 'handy': 1813, 'lot': 2356, 'purchased': 3109, 'within': 4469, 'longer': 2342, 'working': 4491, 'everyday': 1362, 'bargain': 297, 'packaged': 2803, 'arrived': 197, 'intended': 2082, 'quickly': 3131, 'worked': 4489, 'broke': 470, 'easy': 1241, 'construction': 818, 'better': 356, 'boy': 443, 'cheaper': 634, 'load': 2329, 'super': 3885, 'cost': 867, 'much': 2586, 'expect': 1402, 'greater': 1758, 'ease': 1238, 'bud': 485, 'play': 2942, 'music': 2599, 'dont': 1152, 'order': 2748, 'plan': 2930, 'found': 1601, 'waaay': 4363, 'tried': 4138, 'bluetooths': 401, 'listener': 2320, 'using': 4284, 'decision': 994, 'integrated': 2078, 'seamlessly': 3464, 'buyer': 512, 'beware': 358, 'flush': 1559, 'toilet': 4068, 'definitely': 1010, 'free': 1612, 'shipping': 3556, 'received': 3190, 'supposedly': 3897, 'apparently': 171, 'match': 2444, 'pro': 3046, 'also': 113, 'style': 3843, 'black': 377, 'white': 4437, 'huge': 1946, 'flaw': 1541, 'correctly': 866, 'jabra': 2124, 'reception': 3195, 'piece': 2914, 'fit': 1526, 'although': 114, 'rated': 3155, 'impressive': 2005, 'megapixels': 2472, 'render': 3259, 'image': 1988, 'fall': 1445, 'expectation': 1403, 'relatively': 3239, 'high': 1880, 'resolution': 3285, 'purcashed': 3107, 'wife': 4447, 'ask': 210, 'slim': 3635, 'light': 2296, 'display': 1124, 'geeky': 1679, 'sex': 3527, 'toast': 4064, 'rock': 3347, 'ooze': 2734, 'embedded': 1286, 'sleek': 3624, 'stylish': 3845, 'leather': 2266, 'fast': 1466, 'compromise': 775, 'full': 1644, 'qwerty': 3137, 'basic': 305, 'cell': 597, 'keypad': 2188, 'got': 1737, 'around': 194, 'may': 2451, 'completely': 768, 'unhappy': 4221, 'winner': 4460, 'setup': 3521, 'simpler': 3595, 'earpiece': 1235, 'comfortably': 740, 'strong': 3827, 'signal': 3584, 'iam': 1968, 'pleased': 2949, 'job': 2150, 'done': 1150, 'basically': 306, 'service': 3517, 'set': 3519, 'bt': 482, 'disapoinment': 1098, 'small': 3643, 'realize': 3178, 'getting': 1697, 'used': 4279, 'accompanied': 30, 'software': 3671, 'almost': 107, 'brilliant': 464, 'nicely': 2653, 'avoid': 251, 'damage': 961, 'definitly': 1011, 'careful': 561, 'majority': 2405, 'logitech': 2338, 'earbud': 1227, 'failed': 1439, 'stuff': 3836, 'peachy': 2859, 'keen': 2179, 'house': 1939, 'coverage': 884, 'upstairs': 4271, 'basement': 304, 'voice': 4350, 'recognition': 3199, 'tremendous': 4133, 'experienced': 1408, 'drop': 1201, 'area': 186, 'take': 3937, 'forever': 1586, 'hour': 1937, 'literally': 2323, 'reccomendation': 3186, 'relative': 3238, 'glad': 1711, 'stated': 3770, 'description': 1041, 'screen': 3450, 'sudden': 3867, 'hoping': 1923, 'linking': 2314, 'blackberry': 378, 'curve': 949, 'know': 2208, 'funny': 1653, 'seemed': 3485, 'sketchy': 3616, 'technology': 3971, 'wired': 4463, 'kind': 2197, 'message': 2497, 'web': 4416, 'browsing': 477, 'significantly': 3586, 'faster': 1467, 'previous': 3036, 'build': 491, 'unlike': 4235, 'cheap': 633, 'fantastic': 1457, 'perfectly': 2878, 'color': 728, 'superb': 3886, 'whine': 4434, 'internet': 2094, 'le': 2257, 'communication': 752, 'tool': 4082, 'communicate': 751, 'charm': 629, 'maintain': 2401, 'monkey': 2552, 'obviously': 2700, 'share': 3536, 'dna': 1141, 'copy': 857, 'human': 1948, 'bougth': 440, 'sharp': 3538, 'graphic': 1750, 'mode': 2540, 'side': 3580, 'thank': 3998, 'wasting': 4394, 'igo': 1984, 'tip': 4057, 'file': 1498, 'browser': 476, 'offer': 2711, 'option': 2746, 'handsfree': 1812, 'network': 2645, 'connected': 798, 'hs': 1944, 'whether': 4433, 'put': 3118, 'latest': 2243, 'slow': 3639, 'crawl': 904, 'every': 1360, 'recognizes': 3200, 'storage': 3803, 'buzzing': 515, 'override': 2786, 'bluetoooth': 399, 'functionality': 1650, 'awesome': 257, 'thorn': 4019, 'abhor': 2, 'recently': 3194, 'stay': 3773, 'disconnected': 1109, 'incredible': 2026, 'buck': 484, 'check': 638, 'mail': 2397, 'night': 2657, 'backlight': 276, 'lost': 2355, 'replacement': 3272, 'ring': 3325, 'tone': 4077, 'overall': 2777, 'lately': 2241, 'extremely': 1427, 'wit': 4468, 'hit': 1894, 'dropping': 1203, 'weight': 4423, 'hardly': 1827, 'thin': 4011, 'pleather': 2953, 'useless': 4282, 'simply': 3597, 'deaf': 978, 'prettier': 3033, 'thought': 4023, 'incredibly': 2027, 'investment': 2102, 'strange': 3810, 'ticking': 4044, 'noise': 2668, 'electronics': 1272, 'available': 247, 'fm': 1563, 'transmitter': 4122, 'mega': 2471, 'pixel': 2925, 'part': 2833, 'reasonably': 3183, 'nearly': 2626, 'transmit': 4121, 'back': 272, 'bother': 434, 'contacting': 822, 'company': 756, 'dollar': 1148, 'learned': 2264, 'lesson': 2282, 'form': 1593, 'online': 2733, 'anyway': 162, 'earbugs': 1229, 'mean': 2458, 'range': 3148, 'able': 4, 'roam': 3341, 'living': 2328, 'room': 3356, 'issue': 2120, 'felt': 1487, 'crack': 891, 'worst': 4496, 'ever': 1359, 'infatuated': 2046, 'freeze': 1616, 'frequently': 1620, 'embarrassing': 1284, 'mostly': 2565, 'child': 655, 'lightweight': 2300, 'expected': 1404, 'consumer': 819, 'experience': 1407, 'horrible': 1926, 'tick': 4041, 'background': 275, 'certainly': 606, 'usually': 4287, 'headband': 1843, 'mess': 2496, 'hair': 1796, 'bit': 372, 'tell': 3979, 'ordered': 2749, 'sony': 3690, 'ericsson': 1336, 'favorite': 1475, 'market': 2431, 'authentic': 244, 'shine': 3551, 'comfort': 738, 'excited': 1388, 'cute': 954, 'mistake': 2535, 'disappointment': 1103, 'calendar': 526, 'sync': 3927, 'customer': 951, 'additional': 61, 'gel': 1680, 'whatsoever': 4430, 'defeat': 1003, 'purpose': 3114, 'worth': 4497, 'penny': 2871, 'wallet': 4375, 'type': 4175, 'excrutiatingly': 1392, 'probably': 3047, 'important': 2001, 'aspect': 214, 'glove': 1716, 'secure': 3478, 'durable': 1216, 'gosh': 1736, 'attractive': 237, 'appears': 174, 'factor': 1436, 'rubber': 3367, 'petroleum': 2893, 'smell': 3650, 'unbearable': 4186, 'caused': 589, 'return': 3300, 'cable': 519, 'flimsy': 1547, 'scary': 3430, 'hand': 1804, 'stereo': 3787, 'flawlessly': 1544, 'absolutel': 8, 'junk': 2170, 'either': 1269, 'drain': 1174, 'potentially': 3002, 'fry': 1638, 'unreliable': 4251, 'giving': 1710, 'gave': 1675, 'star': 3761, 'reversible': 3307, 'rotating': 3358, 'whole': 4440, 'family': 1452, 'seller': 3491, 'plantronics': 2936, 'adorable': 67, 'buying': 513, 'poorly': 2981, 'contstruct': 842, 'hinge': 1890, 'installed': 2066, 'charged': 622, 'overnite': 2784, 'thru': 4034, 'handset': 1811, 'cat': 583, 'attacked': 230, 'scratched': 3447, 'protective': 3076, 'strip': 3824, 'destroying': 1058, 'terrible': 3989, 'razor': 3165, 'wise': 4466, 'someone': 3682, 'shouldve': 3570, 'invented': 2100, 'sooner': 3692, 'try': 4157, 'engineered': 1309, 'clever': 695, 'many': 2423, 'complained': 764, 'microphone': 2507, 'weak': 4410, 'old': 2722, 'nokia': 2669, 'tracfone': 4101, 'care': 560, 'manual': 2421, 'lacking': 2219, 'alarm': 95, 'clock': 705, 'removing': 3258, 'antena': 153, 'uncomfortable': 4191, 'quite': 3135, 'compared': 758, 'plugged': 2960, 'lg': 2290, 'gotten': 1739, 'compliment': 771, 'state': 3769, 'allow': 103, 'usage': 4276, 'driving': 1197, 'immediately': 1996, 'ngage': 2651, 'earbuds': 1228, 'dialing': 1070, 'cant': 547, 'anything': 160, 'low': 2369, 'however': 1943, 'riingtones': 3324, 'neither': 2640, 'game': 1664, 'amazon': 122, 'suck': 3864, 'rip': 3331, 'came': 532, 'ago': 83, 'couple': 877, 'recharge': 3197, 'frequentyly': 1621, 'flip': 1548, 'adhesive': 63, 'disappointing': 1102, 'inexpensive': 2043, 'practically': 3010, 'add': 58, 'boost': 422, 'concrete': 786, 'knock': 2206, 'wood': 4485, 'transformed': 4117, 'organizational': 2751, 'capability': 548, 'easier': 1239, 'sitting': 3612, 'vehicle': 4306, 'cradle': 894, 'belt': 347, 'jerk': 2140, 'los': 2352, 'angeles': 136, 'starter': 3767, 'wireless': 4465, 'loudspeaker': 2361, 'bumper': 499, 'appealing': 172, 'improve': 2007, 'leak': 2261, 'hot': 1935, 'according': 31, 'called': 529, 'applifies': 180, 'save': 3418, 'specially': 3724, 'face': 1431, 'transmission': 4120, 'data': 970, 'finished': 1518, 'looking': 2345, 'happier': 1822, 'drivng': 1198, 'along': 109, 'start': 3764, 'ringing': 3327, 'reason': 3181, 'auto': 246, 'reverse': 3306, 'tape': 3949, 'embarassing': 1282, 'hurt': 1961, 'push': 3116, 'protects': 3078, 'average': 248, 'operates': 2740, 'skype': 3620, 'soyo': 3712, 'self': 3489, 'portrait': 2989, 'outside': 2770, 'exterior': 1422, 'others': 2759, 'mentioned': 2488, 'trying': 4158, 'finally': 1510, 'magical': 2394, 'help': 1866, 'crap': 898, 'shipped': 3555, 'promptly': 3070, 'exactly': 1370, 'wanted': 4377, 'comparably': 757, 'offering': 2713, 'today': 4066, 'deal': 979, 'satisfied': 3411, 'encourage': 1300, 'give': 1708, 'effective': 1261, 'waiting': 4368, 'recieve': 3198, 'prompt': 3068, 'especially': 1341, 'stupid': 3839, 'keep': 2180, 'kit': 2201, 'come': 735, 'excelent': 1376, 'cingulair': 682, 'nicer': 2654, 'noticed': 2687, 'era': 1333, 'colored': 729, 'dead': 975, 'hoursthe': 1938, 'thereplacement': 4009, 'cheaply': 635, 'att': 227, 'distorted': 1132, 'yell': 4522, 'plastic': 2938, 'break': 451, 'oh': 2717, 'forgot': 1591, 'mention': 2487, 'weird': 4424, 'effect': 1260, 'iriver': 2113, 'spinn': 3737, 'unit': 4230, 'fond': 1573, 'magnetic': 2395, 'strap': 3812, 'psyched': 3090, 'appointment': 181, 'another': 150, 'note': 2682, 'appearance': 173, 'rather': 3156, 'bland': 383, 'model': 2541, 'sanyo': 3404, 'survived': 3910, 'blacktop': 379, 'ill': 1985, 'away': 256, 'enter': 1318, 'modest': 2543, 'cellular': 599, 'clarity': 686, 'warning': 4384, 'wish': 4467, 'awsome': 261, 'drained': 1175, 'dying': 1223, 'earpad': 1233, 'anyone': 159, 'displeased': 1125, 'might': 2511, 'defect': 1004, 'risk': 3334, 'built': 494, 'alone': 108, 'difficult': 1080, 'install': 2065, 'restored': 3294, 'purchasing': 3110, 'jx': 2175, 'moto': 2569, 'figure': 1496, 'searched': 3466, 'size': 3615, 'key': 2186, 'pad': 2805, 'lit': 2322, 'nothing': 2685, 'hard': 1825, 'portable': 2987, 'colleague': 724, 'expensive': 1406, 'fully': 1645, 'bed': 327, 'turned': 4168, 'wi': 4443, 'fi': 1491, 'morning': 2562, 'reading': 3172, 'memory': 2484, 'card': 557, 'always': 116, 'wearing': 4414, 'hat': 1829, 'sunglass': 3884, 'timely': 4052, 'shipment': 3554, 'solid': 3677, 'surefire': 3900, 'gx': 1791, 'computer': 776, 'remorse': 3256, 'accessoryone': 23, 'inexcusable': 2042, 'returning': 3302, 'changing': 615, 'carrier': 568, 'tmobile': 4062, 'update': 4263, 'procedure': 3050, 'cumbersome': 944, 'motorolas': 2572, 'delivery': 1027, 'vx': 4361, 'env': 1328, 'switch': 3920, 'rocketed': 3349, 'destination': 1056, 'unknown': 4233, 'condition': 789, 'worthwhile': 4499, 'usefulness': 4281, 'bill': 364, 'understand': 4202, 'pricing': 3040, 'overnight': 2783, 'regret': 3226, 'user': 4283, 'friendly': 1627, 'unfortunately': 4219, 'ability': 3, 'receiving': 3192, 'pitiful': 2923, 'respect': 3287, 'exchanged': 1387, 'result': 3296, 'stuck': 3832, 'max': 2450, 'mute': 2603, 'hybrid': 1965, 'palmtop': 2819, 'cellphone': 598, 'excels': 1379, 'role': 3351, 'liked': 2302, 'wrong': 4512, 'described': 1038, 'im': 1986, 'bose': 433, 'cancelling': 543, 'amazing': 120, 'nyc': 2696, 'commuter': 754, 'defective': 1005, 'given': 1709, 'unacceptable': 4183, 'holster': 1908, 'photo': 2904, 'ad': 54, 'earlier': 1231, 'review': 3308, 'noted': 2683, 'happens': 1821, 'frog': 1630, 'eye': 1428, 'catching': 584, 'pushed': 3117, 'function': 1648, 'amazed': 119, 'aluminum': 115, 'palm': 2818, 'protected': 3074, 'handheld': 1806, 'sturdiness': 3841, 'timeframe': 4050, 'source': 3708, 'waterproof': 4401, 'standard': 3758, 'thanks': 3999, 'ended': 1303, 'sliding': 3632, 'edge': 1251, 'pant': 2824, 'store': 3804, 'ugly': 4179, 'shield': 3549, 'incrediable': 2025, 'improvement': 2009, 'refuse': 3221, 'refund': 3219, 'replace': 3270, 'accidentally': 25, 'activate': 47, 'gentle': 1689, 'touch': 4093, 'listening': 2321, 'threw': 4028, 'window': 4457, 'took': 4081, 'inch': 2014, 'kitchen': 2202, 'counter': 875, 'cracked': 892, 'laughing': 2251, 'trunk': 4154, 'carried': 567, 'hitch': 1895, 'practical': 3009, 'ample': 130, 'eargels': 1230, 'channel': 616, 'directly': 1092, 'seem': 3484, 'increase': 2024, 'none': 2671, 'properly': 3073, 'missed': 2533, 'numerous': 2691, 'sucked': 3865, 'shifting': 3550, 'bubbling': 483, 'peeling': 2867, 'scratch': 3446, 'droid': 1199, 'zero': 4538, 'exercise': 1396, 'frustration': 1637, 'earset': 1236, 'outgoing': 2764, 'total': 4091, 'package': 2802, 'understanding': 4203, 'patient': 2846, 'wirefly': 4464, 'cingular': 683, 'inform': 2048, 'practice': 3011, 'aggravating': 82, 'friend': 1626, 'enjoy': 1312, 'virgin': 4336, 'muddy': 2588, 'casing': 577, 'wire': 4462, 'insert': 2057, 'glued': 1717, 'slid': 3628, 'please': 2948, 'plantronincs': 2937, 'continues': 832, 'flawed': 1542, 'disapointing': 1099, 'fourth': 1603, 'hated': 1831, 'fix': 1528, 'accessing': 21, 'downloading': 1164, 'ringtones': 3328, 'performing': 2881, 'barely': 296, 'constantly': 816, 'joke': 2156, 'said': 3387, 'due': 1209, 'happening': 1820, 'forced': 1582, 'stop': 3801, 'adapter': 57, 'walked': 4372, 'wiping': 4461, 'strength': 3818, 'louder': 2358, 'speaker': 3719, 'constructed': 817, 'menu': 2489, 'navigate': 2622, 'recessed': 3196, 'holding': 1902, 'avoiding': 253, 'broken': 471, 'smoking': 3656, 'sprint': 3747, 'linked': 2313, 'effort': 1263, 'possesed': 2994, 'idea': 1972, 'trash': 4124, 'research': 3281, 'development': 1065, 'division': 1140, 'killer': 2195, 'course': 879, 'breaking': 454, 'infuriating': 2051, 'walkman': 4373, 'europe': 1351, 'asia': 208, 'clipping': 704, 'deffinitely': 1007, 'cent': 601, 'coming': 744, 'behing': 336, 'comfortible': 741, 'pain': 2807, 'quick': 3129, 'arrival': 196, 'fraction': 1606, 'samsung': 3398, 'crappy': 899, 'seeen': 3482, 'stopped': 3802, 'needed': 2630, 'operate': 2739, 'interface': 2090, 'decade': 987, 'compete': 760, 'paired': 2813, 'treo': 4135, 'usb': 4277, 'transceiver': 4113, 'steer': 3782, 'genuine': 1691, 'replacementr': 3273, 'pen': 2868, 'pack': 2801, 'buyit': 514, 'beat': 318, 'finger': 1515, 'plus': 2961, 'believe': 340, 'steep': 3781, 'point': 2968, 'normally': 2676, 'apart': 165, 'haul': 1833, 'dissapointing': 1129, 'brand': 448, 'extra': 1424, 'originally': 2756, 'discarded': 1107, 'posted': 2999, 'detailed': 1061, 'comment': 746, 'grey': 1767, 'red': 3208, 'pay': 2853, 'guess': 1786, 'existing': 1399, 'cd': 593, 'connection': 800, 'surprised': 3905, 'fabulous': 1430, 'currently': 946, 'shooter': 3563, 'delay': 1014, 'bitpim': 376, 'program': 3063, 'transfer': 4116, 'accessory': 22, 'manufacturer': 2422, 'performed': 2880, 'awful': 258, 'muffled': 2590, 'tinny': 4055, 'incoming': 2018, 'severe': 3525, 'echo': 1248, 'wind': 4456, 'resistant': 3284, 'overly': 2782, 'contacted': 821, 'told': 4069, 'warranty': 4385, 'produce': 3054, 'receipt': 3188, 'luck': 2375, 'linksys': 2315, 'exchange': 1386, 'refurb': 3220, 'something': 3684, 'placed': 2928, 'snug': 3665, 'heavy': 1854, 'falling': 1446, 'utter': 4288, 'promised': 3066, 'loop': 2346, 'tiny': 4056, 'four': 1602, 'spring': 3746, 'latch': 2238, 'visor': 4342, 'download': 1163, 'address': 62, 'reboots': 3184, 'rate': 3154, 'tungsten': 4165, 'flipphones': 1549, 'designed': 1047, 'smoothly': 3659, 'study': 3835, 'interested': 2088, 'sin': 3598, 'industrial': 2039, 'happened': 1819, 'tracking': 4105, 'access': 18, 'detachable': 1059, 'continue': 831, 'pairing': 2814, 'periodically': 2884, 'somehow': 3681, 'upload': 4267, 'third': 4016, 'flash': 1533, 'randomly': 3147, 'locked': 2335, 'truly': 4151, 'worn': 4493, 'ringer': 3326, 'acceptable': 17, 'balance': 285, 'ready': 3173, 'prime': 3043, 'upbeat': 4262, 'chinese': 662, 'forgery': 1587, 'abound': 5, 'explain': 1411, 'jack': 2125, 'ca': 517, 'crisp': 922, 'smallest': 3645, 'biggest': 363, 'superfast': 3889, 'ergonomic': 1334, 'theory': 4007, 'stand': 3757, 'video': 4326, 'occupied': 2704, 'distracting': 1134, 'entire': 1324, 'accept': 16, 'except': 1380, 'cbr': 592, 'preferably': 3018, 'ripped': 3332, 'medium': 2469, 'shot': 3569, 'so': 3666, 'allows': 105, 'connect': 797, 'mini': 2522, 'near': 2625, 'open': 2735, 'allowing': 104, 'startac': 3765, 'regretted': 3229, 'outperform': 2767, 'china': 661, 'sim': 3590, 'crashed': 901, 'replaced': 3271, 'quit': 3134, 'iphone': 2107, 'despite': 1054, 'connecting': 799, 'multiple': 2592, 'power': 3006, 'imac': 1987, 'external': 1423, 'wall': 4374, 'outlet': 2766, 'etc': 1349, 'elsewhere': 1280, 'bell': 342, 'whistle': 4436, 'mediocre': 2467, 'via': 4323, 'slide': 3629, 'grip': 1773, 'prevents': 3035, 'slipping': 3637, 'span': 3717, 'exclaim': 1390, 'whoa': 4438, 'tv': 4169, 'corded': 859, 'freedom': 1613, 'passed': 2838, 'mark': 2430, 'show': 3572, 'sign': 3583, 'functional': 1649, 'soft': 3670, 'tight': 4047, 'cut': 953, 'shape': 3535, 'copier': 855, 'sent': 3502, 'anywhere': 164, 'sold': 3674, 'provides': 3084, 'classy': 690, 'krussel': 2213, 'tracfonewebsite': 4102, 'toactivate': 4063, 'texas': 3993, 'dit': 1137, 'mainly': 2400, 'soon': 3691, 'whatever': 4429, 'next': 2650, 'blueant': 398, 'supertooth': 3893, 'metro': 2501, 'sch': 3433, 'slider': 3630, 'premium': 3022, 'plenty': 2955, 'capacity': 549, 'confortable': 794, 'somewhat': 3686, 'period': 2883, 'ant': 152, 'hey': 1877, 'pleasantly': 2947, 'suprised': 3898, 'dustpan': 1220, 'indoors': 2037, 'disposable': 1126, 'puff': 3097, 'smoke': 3655, 'convenient': 843, 'ride': 3320, 'smoother': 3658, 'nano': 2611, 'son': 3688, 'dissapointed': 1128, 'reccommend': 3187, 'carry': 569, 'highest': 1882, 'anti': 155, 'glare': 1713, 'protector': 3077, 'date': 971, 'smartphone': 3647, 'wont': 4482, 'atleast': 223, 'addition': 60, 'amp': 129, 'reoccure': 3264, 'bottom': 436, 'somewhere': 3687, 'else': 1279, 'creak': 907, 'wooden': 4486, 'floor': 1552, 'apartment': 166, 'generally': 1683, 'inconspicuous': 2022, 'boot': 423, 'slowly': 3640, 'sorry': 3700, 'impossible': 2002, 'refused': 3222, 'upgrade': 4264, 'discount': 1110, 'securly': 3480, 'possibility': 2995, 'double': 1157, 'booking': 421, 'entertainment': 1322, 'management': 2414, 'activesync': 49, 'optimal': 2745, 'synchronization': 3928, 'disgusting': 1117, 'coupon': 878, 'rare': 3151, 'instance': 2067, 'perfect': 2875, 'ps': 3088, 'five': 1527, 'cheapy': 636, 'sounded': 3704, 'talking': 3945, 'shouting': 3571, 'telephone': 3977, 'yes': 4527, 'shiny': 3553, 'grtting': 1783, 'thumb': 4037, 'together': 4067, 'exceeds': 1375, 'foot': 1578, 'sight': 3582, 'improper': 2006, 'checked': 639, 'everywhere': 1365, 'ordering': 2750, 'awkward': 259, 'hoped': 1920, 'father': 1469, 'easily': 1240, 'intermittently': 2093, 'reaching': 3168, 'row': 3363, 'send': 3493, 'nightmare': 2658, 'describe': 1037, 'speakerphone': 3720, 'cassette': 579, 'current': 945, 'planning': 2933, 'dirty': 1096, 'answer': 151, 'read': 3170, 'sensor': 3501, 'reliability': 3245, 'beeping': 330, 'letting': 2286, 'dieing': 1077, 'laptop': 2228, 'ir': 2110, 'cancellation': 542, 'counterfeit': 876, 'see': 3481, 'travled': 4126, 'swivel': 3922, 'sister': 3607, 'dual': 1206, 'keeping': 2181, 'inside': 2058, 'bottowm': 437, 'gimmick': 1703, 'top': 4085, 'causing': 590, 'discomfort': 1108, 'trust': 4155, 'maintains': 2403, 'flawless': 1543, 'normal': 2675, 'making': 2408, 'fails': 1440, 'utterly': 4289, 'confusing': 796, 'lose': 2353, 'holder': 1901, 'cutout': 957, 'land': 2223, 'material': 2445, 'exceptional': 1381, 'owning': 2794, 'official': 2714, 'oem': 2708, 'loudest': 2359, 'setting': 3520, 'competitor': 762, 'saved': 3419, 'alot': 111, 'beep': 329, 'ok': 2720, 'totally': 4092, 'unintelligible': 4224, 'word': 4487, 'restart': 3291, 'managed': 2413, 'bend': 349, 'leaf': 2260, 'metal': 2499, 'stress': 3819, 'leopard': 2280, 'print': 3044, 'wonderfully': 4480, 'wild': 4449, 'saggy': 3386, 'floppy': 1554, 'loos': 2347, 'snap': 3662, 'fliptop': 1550, 'loose': 2348, 'wobbly': 4475, 'eventually': 1358, 'receive': 3189, 'seat': 3471, 'fulfills': 1643, 'requirement': 3279, 'fact': 1435, 'rest': 3289, 'lightly': 2299, 'rating': 3157, 'lap': 2227, 'control': 840, 'accessable': 19, 'mine': 2520, 'christmas': 674, 'otherwise': 2760, 'joy': 2160, 'satisifed': 3413, 'wow': 4505, 'spec': 3722, 'armband': 193, 'allot': 102, 'clearer': 693, 'reach': 3167, 'ericson': 1335, 'motor': 2570, 'center': 602, 'voltage': 4353, 'humming': 1952, 'equipment': 1331, 'certain': 605, 'girl': 1705, 'complain': 763, 'wake': 4370, 'styling': 3844, 'restocking': 3293, 'fee': 1479, 'darn': 968, 'lousy': 2362, 'seen': 3487, 'sweetest': 3919, 'securely': 3479, 'hook': 1916, 'directed': 1089, 'canal': 540, 'unsatisfactory': 4254, 'negatively': 2634, 'provide': 3082, 'hype': 1966, 'assumed': 218, 'lense': 2279, 'covered': 885, 'text': 3994, 'messaging': 2498, 'tricky': 4137, 'painful': 2808, 'lasted': 2235, 'blew': 389, 'flop': 1553, 'smudged': 3661, 'disappoint': 1100, 'infra': 2050, 'port': 2986, 'irda': 2111, 'aimless': 87, 'movie': 2580, 'distressed': 1135, 'drifting': 1192, 'young': 4529, 'man': 2412, 'flat': 1535, 'character': 618, 'audience': 238, 'half': 1798, 'attempting': 233, 'artiness': 203, 'became': 323, 'ridiculous': 3321, 'acting': 45, 'plot': 2958, 'non': 2670, 'existent': 1397, 'speak': 3718, 'scene': 3431, 'gerardo': 1694, 'running': 3374, 'head': 1842, 'lack': 2217, 'art': 200, 'meaning': 2460, 'emptiness': 1296, 'empty': 1297, 'saw': 3422, 'kid': 2190, 'predictable': 3015, 'casting': 582, 'jimmy': 2149, 'buffet': 489, 'science': 3441, 'teacher': 3965, 'baby': 269, 'owl': 2791, 'showed': 3574, 'florida': 1555, 'muppets': 2593, 'hilarious': 1887, 'delivers': 1026, 'main': 2398, 'budget': 487, 'overdue': 2780, 'consider': 807, 'tale': 3941, 'single': 3603, 'greatest': 1759, 'film': 1503, 'gem': 1681, 'term': 3987, 'screenplay': 3452, 'cinematography': 681, 'post': 2998, 'production': 3058, 'editing': 1254, 'directing': 1090, 'true': 4149, 'masterpiece': 2443, 'sea': 3460, 'faux': 1472, 'structure': 3829, 'tightly': 4048, 'history': 1893, 'cinema': 678, 'vitally': 4345, 'occurs': 2706, 'content': 828, 'level': 2288, 'fill': 1500, 'superlative': 3891, 'imaginable': 1989, 'require': 3278, 'significant': 3585, 'amount': 128, 'puzzle': 3120, 'solving': 3680, 'create': 910, 'punch': 3102, 'th': 3996, 'deserves': 1044, 'insane': 2055, 'massive': 2440, 'unlockable': 4236, 'canada': 539, 'aye': 263, 'pure': 3111, 'brilliance': 463, 'flick': 1546, 'doomed': 1154, 'conception': 780, 'lame': 2221, 'minor': 2523, 'pg': 2895, 'complete': 766, 'sequel': 3506, 'confirm': 792, 'unfunny': 4220, 'generic': 1685, 'exaggerating': 1371, 'moment': 2548, 'trailer': 4110, 'talented': 3943, 'carrell': 566, 'co': 711, 'fare': 1461, 'morgan': 2561, 'freeman': 1614, 'jonah': 2157, 'hill': 1888, 'ed': 1250, 'helm': 1865, 'story': 3806, 'lazy': 2255, 'presence': 3026, 'animal': 142, 'integration': 2079, 'obvious': 2699, 'green': 1763, 'translate': 4118, 'succeeds': 3861, 'meagre': 2456, 'lesser': 2281, 'lovely': 2366, 'written': 4511, 'french': 1618, 'cancan': 541, 'boast': 404, 'cutest': 955, 'leading': 2259, 'lady': 2220, 'grace': 1743, 'heel': 1856, 'negative': 2633, 'insipid': 2060, 'cause': 588, 'whiny': 4435, 'pointless': 2970, 'future': 1655, 'cast': 580, 'believable': 339, 'anne': 147, 'heche': 1855, 'convincing': 849, 'sam': 3396, 'shepard': 3548, 'portrayal': 2990, 'gung': 1789, 'ho': 1897, 'marine': 2428, 'sobering': 3668, 'sat': 3408, 'riveted': 3338, 'resounding': 3286, 'tom': 4073, 'hank': 1815, 'actor': 50, 'enjoyed': 1314, 'annoying': 149, 'feeling': 1481, 'fingernail': 1516, 'chalkboard': 611, 'unnecessary': 4240, 'train': 4111, 'roller': 3354, 'coaster': 715, 'warmth': 4382, 'grate': 1752, 'nerve': 2641, 'improved': 2008, 'improvisation': 2010, 'twice': 4170, 'worry': 4494, 'delivering': 1025, 'honestly': 1914, 'often': 2716, 'dialogue': 1072, 'follow': 1569, 'surroundings': 3909, 'crackle': 893, 'unpredictable': 4245, 'youthful': 4531, 'energy': 1307, 'concentrate': 778, 'meander': 2459, 'badly': 279, 'suspense': 3913, 'builder': 492, 'cross': 928, 'cliche': 696, 'parent': 2830, 'predict': 3014, 'dialog': 1071, 'verbatim': 4314, 'writing': 4510, 'selection': 3488, 'gross': 1778, 'chill': 658, 'alexander': 98, 'nevsky': 2648, 'artist': 204, 'whoever': 4439, 'lived': 2327, 'pretentious': 3031, 'planned': 2932, 'dodge': 1146, 'stratus': 3813, 'maker': 2407, 'restrained': 3295, 'business': 506, 'québec': 3136, 'mouth': 2575, 'promote': 3067, 'interesting': 2089, 'provoking': 3087, 'paced': 2799, 'suited': 3877, 'lion': 2317, 'superbly': 3888, 'acted': 44, 'classic': 688, 'list': 2318, 'horror': 1929, 'checking': 640, 'script': 3456, 'horrendous': 1924, 'retarded': 3298, 'manna': 2419, 'heaven': 1853, 'terrific': 3991, 'occasionally': 2703, 'touching': 4095, 'evaluate': 1353, 'veteran': 4321, 'nostalgia': 2679, 'trip': 4142, 'ursula': 4273, 'burton': 504, 'nun': 2692, 'church': 676, 'including': 2017, 'shirley': 3557, 'jones': 2158, 'rendition': 3261, 'tonight': 4079, 'uplifting': 4266, 'ending': 1304, 'frankly': 1610, 'cotton': 871, 'club': 709, 'unfaithful': 4215, 'watch': 4395, 'lane': 2225, 'gere': 1695, 'shallow': 3532, 'insincere': 2059, 'chick': 653, 'politically': 2976, 'correct': 864, 'watching': 4398, 'scenery': 3432, 'bring': 466, 'fresh': 1622, 'bold': 412, 'maybe': 2452, 'idiot': 1978, 'savant': 3417, 'played': 2943, 'boring': 430, 'peaking': 2860, 'paper': 2827, 'columbo': 732, 'mature': 2449, 'neighbour': 2638, 'misplace': 2531, 'weaker': 4411, 'episode': 1329, 'debated': 983, 'sack': 3380, 'trumpeter': 4153, 'falsely': 1447, 'accused': 36, 'murder': 2594, 'applause': 178, 'prelude': 3020, 'director': 1093, 'afraid': 77, 'playing': 2945, 'villain': 4330, 'rent': 3263, 'michael': 2505, 'ironside': 2117, 'rocked': 3348, 'social': 3669, 'physical': 2908, 'tremendously': 4134, 'chemistry': 651, 'ben': 348, 'affleck': 75, 'sandra': 3401, 'bullock': 497, 'leaving': 2268, 'knocked': 2207, 'excruciatingly': 1391, 'remake': 3251, 'wedding': 4418, 'agreed': 85, 'fear': 1477, 'losing': 2354, 'nobody': 2664, 'aired': 89, 'dribble': 1188, 'watched': 4397, 'putting': 3119, 'imdb': 1994, 'mirrormask': 2526, 'inexperience': 2044, 'meant': 2461, 'dramatic': 1177, 'tension': 3985, 'conflict': 793, 'central': 603, 'theme': 4006, 'handled': 1808, 'ineptly': 2041, 'stereotypically': 3789, 'depth': 1035, 'imagination': 1990, 'core': 860, 'following': 1571, 'bunch': 500, 'schoolers': 3437, 'cry': 938, 'relate': 3234, 'hell': 1861, 'cult': 942, 'viewing': 4329, 'sharing': 3537, 'disaster': 1105, 'confuses': 795, 'fish': 1523, 'underwater': 4208, 'repeated': 3267, 'thousand': 4024, 'worse': 4495, 'possible': 2996, 'redeemed': 3209, 'mst': 2585, 'fodder': 1567, 'paid': 2806, 'treat': 4129, 'anthony': 154, 'quinn': 3133, 'crazy': 906, 'horse': 1930, 'walk': 4371, 'theatre': 4003, 'relief': 3246, 'yeah': 4520, 'storyline': 3807, 'pillow': 2916, 'girlfriend': 1706, 'boyfriend': 444, 'gone': 1728, 'disliked': 1120, 'ticket': 4043, 'mad': 2388, 'identifies': 1976, 'cardboard': 558, 'stereotype': 3788, 'predictably': 3016, 'cartoon': 572, 'crafted': 895, 'paul': 2851, 'haggis': 1795, 'handle': 1807, 'stroke': 3826, 'storytelling': 3808, 'painted': 2811, 'crayon': 905, 'crash': 900, 'depressing': 1034, 'provokes': 3086, 'emotion': 1291, 'teach': 3964, 'already': 112, 'racism': 3140, 'prejudice': 3019, 'empowerment': 1295, 'woman': 4476, 'brain': 446, 'attempt': 231, 'shut': 3577, 'primal': 3041, 'impulse': 2011, 'preservation': 3029, 'shattered': 3541, 'recover': 3206, 'join': 2154, 'revenge': 3304, 'boogeyman': 419, 'zombiez': 4541, 'hellish': 1863, 'trinity': 4141, 'distinction': 1131, 'redeeming': 3210, 'appalling': 170, 'artless': 206, 'endlessly': 1305, 'present': 3027, 'ugliest': 4178, 'beyond': 359, 'lead': 2258, 'charisma': 625, 'merit': 2493, 'akin': 93, 'torture': 4088, 'explanation': 1413, 'atrocity': 226, 'pleasant': 2946, 'voyage': 4359, 'discovery': 1112, 'unrecommended': 4250, 'premise': 3021, 'garbo': 1669, 'bat': 307, 'talent': 3942, 'silent': 3587, 'netflix': 2644, 'stocking': 3797, 'renowned': 3262, 'screenwriter': 3453, 'france': 1607, 'marion': 2429, 'step': 3784, 'suffered': 3869, 'close': 706, 'ups': 4270, 'drag': 1172, 'hero': 1874, 'age': 80, 'john': 2153, 'wayne': 4407, 'industry': 2040, 'shined': 3552, 'senior': 3495, 'older': 2724, 'indulgent': 2038, 'spent': 3729, 'showcasing': 3573, 'noteworthy': 2684, 'punched': 3103, 'gallon': 1663, 'blood': 392, 'spew': 3730, 'forth': 1597, 'jamie': 2130, 'foxx': 1605, 'ray': 3164, 'charles': 627, 'genius': 1687, 'owns': 2795, 'spacek': 3714, 'coal': 713, 'miner': 2521, 'daughter': 972, 'quaid': 3122, 'ball': 287, 'remember': 3253, 'legendary': 2274, 'biographical': 367, 'musician': 2600, 'hitchcock': 1896, 'ironically': 2115, 'secondly': 3476, 'perfected': 2876, 'thriller': 4030, 'chase': 631, 'pandering': 2822, 'sabotage': 3379, 'hence': 1870, 'rumble': 3372, 'desperately': 1050, 'depending': 1030, 'usual': 4286, 'logic': 2337, 'mishima': 2529, 'uninteresting': 4226, 'chilly': 659, 'unremarkable': 4252, 'author': 245, 'abstruse': 11, 'culture': 943, 'reenactment': 3212, 'attention': 234, 'emotionally': 1292, 'adrift': 68, 'stagy': 3755, 'sits': 3611, 'soldier': 3675, 'singing': 3602, 'masculinity': 2439, 'pledge': 2954, 'hairsplitting': 1797, 'purity': 3113, 'admiration': 65, 'sword': 3923, 'bore': 428, 'kill': 2194, 'momentum': 2549, 'quicker': 3130, 'schrader': 3438, 'resume': 3297, 'amateurish': 117, 'fascinated': 1462, 'dancing': 965, 'dvd': 1221, 'struck': 3828, 'contained': 824, 'hole': 1903, 'inconsistency': 2021, 'horrid': 1927, 'realistic': 3176, 'ballet': 288, 'repertory': 3269, 'pathetic': 2845, 'lacked': 2218, 'woa': 4474, 'sappiest': 3405, 'unwatchable': 4258, 'action': 46, 'filmography': 1507, 'site': 3610, 'chance': 613, 'intention': 2085, 'master': 2441, 'undertone': 4207, 'fifty': 1495, 'existential': 1398, 'weariness': 4413, 'aerial': 72, 'ought': 2762, 'thrilled': 4029, 'sens': 3496, 'deeply': 1001, 'regrettably': 3228, 'visual': 4343, 'interest': 2087, 'drama': 1176, 'expression': 1417, 'celebration': 595, 'patriotism': 2848, 'underline': 4198, 'narrative': 2614, 'actress': 51, 'june': 2169, 'allison': 101, 'plain': 2929, 'soundtrack': 3705, 'concert': 784, 'sequence': 3507, 'considering': 810, 'ridiculousness': 3322, 'angry': 139, 'spoiler': 3742, 'surface': 3903, 'stunning': 3838, 'fx': 1657, 'conceptually': 781, 'everybody': 1361, 'fantasy': 1458, 'fan': 1454, 'sour': 3707, 'surprisingly': 3907, 'considered': 809, 'released': 3244, 'mexican': 2502, 'understood': 4206, 'matter': 2447, 'identified': 1975, 'rank': 3149, 'noir': 2667, 'crime': 921, 'belmondo': 346, 'lino': 2316, 'ventura': 4309, 'complex': 769, 'psychological': 3091, 'detailing': 1062, 'loyalty': 2373, 'treachery': 4127, 'hope': 1919, 'melville': 2480, 'journey': 2159, 'soul': 3702, 'water': 4399, 'manages': 2416, 'transcend': 4114, 'limitation': 2307, 'indie': 2034, 'continually': 829, 'subverting': 3858, 'emerge': 1287, 'intense': 2083, 'gripping': 1774, 'crocdodile': 926, 'indeed': 2028, 'believed': 341, 'crocs': 927, 'swamp': 3916, 'location': 2333, 'thoroughly': 4020, 'christopher': 675, 'eccleston': 1247, 'tardis': 3951, 'continuation': 830, 'disturbing': 1136, 'succeeded': 3860, 'pi': 2909, 'jerky': 2141, 'camerawork': 536, 'theater': 4002, 'sick': 3579, 'summary': 3880, 'witticism': 4472, 'witty': 4473, 'billy': 365, 'bob': 405, 'rise': 3333, 'finale': 1509, 'possibly': 2997, 'trilogy': 4139, 'kieslowski': 2193, 'cease': 594, 'amaze': 118, 'favourite': 1476, 'colour': 731, 'flag': 1529, 'visually': 4344, 'subtle': 3856, 'remaining': 3250, 'survivor': 3911, 'ferry': 1489, 'valentine': 4292, 'judge': 2163, 'solidifying': 3679, 'happiness': 1823, 'suffering': 3870, 'dealt': 981, 'smile': 3652, 'wrap': 4506, 'vomited': 4356, 'roth': 3359, 'pearl': 2863, 'awarded': 255, 'eloquently': 1278, 'francis': 1608, 'ford': 1583, 'coppola': 856, 'unfolds': 4216, 'gradually': 1745, 'develop': 1064, 'wonderful': 4479, 'lie': 2292, 'contrast': 836, 'nicola': 2656, 'roeg': 3350, 'wih': 4448, 'sublime': 3850, 'translating': 4119, 'offensive': 2710, 'intelligence': 2080, 'strives': 3825, 'greatness': 1760, 'poetry': 2966, 'muddled': 2587, 'disparate': 1122, 'reviewer': 3309, 'accurately': 35, 'defined': 1009, 'intelligent': 2081, 'masterful': 2442, 'sense': 3497, 'nature': 2620, 'tolerate': 4072, 'political': 2975, 'incorrectness': 2023, 'artistic': 205, 'suspension': 3914, 'disbelief': 1106, 'slavic': 3622, 'female': 1488, 'entertaining': 1321, 'outlandish': 2765, 'array': 195, 'memorable': 2482, 'psychotic': 3092, 'lovable': 2363, 'nut': 2694, 'enjoyment': 1315, 'dangerous': 966, 'sweet': 3918, 'repair': 3265, 'reaction': 3169, 'bitchy': 374, 'bos': 432, 'smart': 3646, 'twist': 4172, 'shed': 3543, 'tear': 3968, 'seeing': 3483, 'underneath': 4200, 'malta': 2411, 'dry': 1205, 'barren': 300, 'hockey': 1898, 'defensemen': 1006, 'goalie': 1720, 'diving': 1139, 'wide': 4444, 'net': 2643, 'relationship': 3237, 'bakery': 283, 'assistant': 217, 'waitress': 4369, 'superficial': 3890, 'stagey': 3754, 'stage': 3753, 'farce': 1460, 'pyromaniac': 3121, 'waylaid': 4406, 'bored': 429, 'switched': 3921, 'laugh': 2248, 'yawn': 4518, 'educational': 1256, 'barney': 299, 'de': 974, 'duper': 1215, 'babie': 268, 'bop': 424, 'storm': 3805, 'trooper': 4146, 'guy': 1790, 'potted': 3003, 'plant': 2934, 'shameful': 3534, 'television': 3978, 'writer': 4509, 'smack': 3642, 'bonus': 417, 'taped': 3950, 'latched': 2239, 'endearing': 1302, 'become': 325, 'special': 3723, 'wholesome': 4441, 'sibling': 3578, 'bond': 414, 'unneeded': 4241, 'controversy': 841, 'damian': 962, 'versatile': 4317, 'portraying': 2992, 'cutting': 958, 'modern': 2542, 'passion': 2839, 'drive': 1196, 'taking': 3940, 'forgetting': 1590, 'ireland': 2112, 'scared': 3429, 'horrified': 1928, 'sympathetic': 3926, 'towards': 4097, 'movement': 2579, 'supposed': 3896, 'leave': 2267, 'shelf': 3545, 'elia': 1276, 'koteas': 2210, 'palance': 2815, 'angelina': 137, 'naked': 2608, 'drago': 1173, 'cameo': 534, 'sven': 3915, 'ole': 2725, 'thorsen': 4021, 'enjoyable': 1313, 'ebay': 1245, 'poler': 2973, 'bear': 317, 'kinda': 2198, 'question': 3127, 'fort': 1596, 'steele': 3780, 'unrealistic': 4248, 'throughout': 4031, 'looked': 2344, 'lucy': 2376, 'higher': 1881, 'sink': 3605, 'slacker': 3621, 'excuse': 1393, 'god': 1722, 'excerpt': 1383, 'stylized': 3846, 'exemplar': 1395, 'designer': 1048, 'powerful': 3007, 'exploration': 1415, 'learn': 2263, 'politics': 2977, 'japanese': 2131, 'rendering': 3260, 'america': 125, 'imperial': 1999, 'faultless': 1470, 'photography': 2906, 'composition': 773, 'underappreciated': 4195, 'brian': 458, 'keith': 2183, 'bully': 498, 'teddy': 3972, 'vivid': 4347, 'largely': 2230, 'member': 2481, 'identify': 1977, 'sean': 3465, 'connery': 801, 'noble': 2663, 'brigand': 461, 'candace': 544, 'bergen': 352, 'feisty': 1482, 'heroine': 1875, 'huston': 1963, 'wily': 4454, 'hay': 1837, 'steve': 3790, 'kanaly': 2177, 'spiffy': 3735, 'radiant': 3141, 'ruthless': 3376, 'lieutenant': 2293, 'roosevelt': 3357, 'stick': 3792, 'adventure': 69, 'robert': 3344, 'ryans': 3378, 'portrayed': 2991, 'schizophrenic': 3435, 'murdered': 2595, 'affected': 74, 'war': 4379, 'humour': 1956, 'apt': 185, 'brother': 473, 'ryan': 3377, 'imitation': 1995, 'individual': 2035, 'fashioned': 1465, 'tuneful': 4164, 'rita': 3336, 'hayworth': 1839, 'pedestal': 2866, 'example': 1372, 'hollywood': 1907, 'exploit': 1414, 'financial': 1511, 'gain': 1660, 'linear': 2311, 'narration': 2613, 'thus': 4040, 'flashback': 1534, 'articulated': 202, 'monica': 2551, 'bellucci': 344, 'commentary': 747, 'undoubtedly': 4210, 'timer': 4053, 'popular': 2984, 'northern': 2678, 'positive': 2993, 'community': 753, 'represents': 3276, 'created': 911, 'unique': 4228, 'vivian': 4346, 'schilling': 3434, 'screamy': 3449, 'masculine': 2438, 'casted': 581, 'european': 1352, 'throwback': 4032, 'student': 3833, 'abroad': 6, 'interacting': 2086, 'nationality': 2617, 'circumstance': 684, 'slightly': 3634, 'ticker': 4042, 'building': 493, 'hummh': 1951, 'angel': 134, 'scamp': 3427, 'yelp': 4525, 'he': 1841, 'funniest': 1652, 'caught': 587, 'curtain': 948, 'ive': 2123, 'edition': 1255, 'lid': 2291, 'romantic': 3355, 'charming': 630, 'junkyard': 2171, 'dog': 1147, 'laughed': 2250, 'chosen': 671, 'tortured': 4089, 'blatant': 388, 'american': 126, 'propaganda': 3072, 'hatred': 1832, 'clichés': 697, 'admitted': 66, 'involved': 2104, 'school': 3436, 'pile': 2915, 'round': 3361, 'admins': 64, 'thunderbird': 4039, 'motion': 2567, 'needlessly': 2632, 'repeat': 3266, 'backed': 274, 'continuity': 833, 'thrown': 4033, 'corn': 861, 'flake': 1531, 'box': 442, 'directorial': 1094, 'bordered': 426, 'stupidity': 3840, 'proud': 3079, 'filmmaker': 1506, 'hide': 1879, 'sand': 3400, 'monumental': 2558, 'halfway': 1799, 'embarrassed': 1283, 'howell': 1942, 'bag': 280, 'stephen': 3785, 'mchattie': 2454, 'lance': 2222, 'hendrikson': 1871, 'raging': 3142, 'cheekbone': 642, 'professional': 3059, 'debbie': 984, 'rochon': 3346, 'contributory': 838, 'former': 1595, 'chimp': 660, 'tolerable': 4070, 'oy': 2796, 'vey': 4322, 'scale': 3425, 'simplifying': 3596, 'sake': 3388, 'brevity': 457, 'fulfilling': 1642, 'amusing': 131, 'convoluted': 850, 'convince': 848, 'questioning': 3128, 'glance': 1712, 'bela': 338, 'lugosi': 2377, 'extraneous': 1425, 'intoning': 2098, 'decidely': 992, 'universal': 4231, 'armand': 192, 'assante': 215, 'tying': 4174, 'score': 3443, 'frightening': 1629, 'comprehensible': 774, 'hang': 1814, 'camp': 537, 'expecting': 1405, 'oscar': 2758, 'iq': 2109, 'particularly': 2836, 'mollusk': 2546, 'loosely': 2349, 'insult': 2074, 'public': 3094, 'knew': 2204, 'string': 3823, 'lower': 2370, 'fox': 1604, 'victor': 4325, 'mclaglen': 2455, 'donlevy': 1151, 'unrecognizable': 4249, 'relation': 3236, 'taylor': 3962, 'stanwyck': 3760, 'surprising': 3906, 'president': 3030, 'death': 982, 'entirely': 1325, 'unmoving': 4239, 'producer': 3056, 'gifted': 1702, 'cheerless': 644, 'heist': 1858, 'characterisation': 619, 'underbite': 4196, 'stoic': 3798, 'emoting': 1290, 'chow': 673, 'yun': 4537, 'fat': 1468, 'tomorrow': 4075, 'cheesy': 649, 'abandoned': 1, 'factory': 1437, 'executed': 1394, 'flying': 1561, 'judo': 2166, 'roll': 3352, 'la': 2215, 'woo': 4484, 'squib': 3750, 'proceeding': 3051, 'remotely': 3257, 'derivative': 1036, 'mercy': 2490, 'killing': 2196, 'hopeless': 1922, 'overacting': 2776, 'space': 3713, 'uneasy': 4211, 'composed': 772, 'footage': 1579, 'elderly': 1271, 'awkwardly': 260, 'babbling': 267, 'overwrought': 2789, 'pseudo': 3089, 'satanic': 3409, 'gibberish': 1701, 'corny': 862, 'teen': 3974, 'goth': 1738, 'blush': 402, 'olde': 2723, 'english': 1310, 'latin': 2245, 'sloppy': 3638, 'hackneyed': 1794, 'blah': 380, 'balanced': 286, 'underacting': 4194, 'competent': 761, 'jerry': 2142, 'falwell': 1448, 'starring': 3763, 'jaclyn': 2126, 'smith': 3654, 'opened': 2736, 'length': 2277, 'lifetime': 2295, 'air': 88, 'sell': 3490, 'assaulted': 216, 'strident': 3821, 'cord': 858, 'blare': 387, 'sort': 3701, 'pap': 2826, 'screened': 3451, 'afternoon': 79, 'punish': 3104, 'unemployed': 4212, 'understatement': 4205, 'comedy': 737, 'creates': 912, 'universe': 4232, 'fascinating': 1463, 'team': 3966, 'behind': 335, 'trond': 4145, 'fausa': 1471, 'aurvåg': 241, 'bothersome': 435, 'humorous': 1955, 'move': 2577, 'initially': 2053, 'local': 2331, 'filmed': 1504, 'buffalo': 488, 'intrigued': 2099, 'applauded': 177, 'conclusion': 785, 'lilt': 2306, 'heart': 1850, 'race': 3138, 'duris': 1217, 'view': 4327, 'barcelona': 294, 'famed': 1450, 'gaudi': 1674, 'tower': 4098, 'ten': 3983, 'dislike': 1119, 'despised': 1053, 'rough': 3360, 'draft': 1171, 'shooting': 3564, 'began': 332, 'completed': 767, 'happen': 1818, 'personality': 2889, 'change': 614, 'occur': 2705, 'irritating': 2118, 'indescribably': 2029, 'idiotic': 1979, 'season': 3467, 'contains': 827, 'cheesiness': 648, 'unethical': 4213, 'nc': 2624, 'final': 1508, 'zillion': 4539, 'reality': 3177, 'washing': 4390, 'twirling': 4171, 'grade': 1744, 'century': 604, 'road': 3340, 'silly': 3589, 'implausible': 2000, 'unmitigated': 4238, 'unconvincing': 4193, 'blandly': 385, 'edward': 1257, 'chodorov': 667, 'produced': 3055, 'jean': 2136, 'negulesco': 2636, 'widmark': 4445, 'unintentionally': 4225, 'comical': 743, 'marble': 2424, 'early': 1232, 'marred': 2432, 'constant': 814, 'studio': 3834, 'indoor': 2036, 'prompted': 3069, 'documentary': 1145, 'serious': 3511, 'martin': 2435, 'middle': 2510, 'aged': 81, 'upper': 4269, 'class': 687, 'uptight': 4272, 'betty': 357, 'racial': 3139, 'offend': 2709, 'littered': 2324, 'overt': 2787, 'slur': 3641, 'depicted': 1032, 'moron': 2563, 'boob': 418, 'aside': 209, 'destroy': 1057, 'latifa': 2244, 'wouldnt': 4502, 'steamboat': 3779, 'willie': 4453, 'amazingly': 121, 'mickey': 2506, 'mouse': 2574, 'plane': 2931, 'famous': 1453, 'ground': 1780, 'ton': 4076, 'granted': 1749, 'crowd': 931, 'pleaser': 2950, 'timeless': 4051, 'turkey': 4166, 'straw': 3814, 'imaginative': 1991, 'cruel': 933, 'among': 127, 'bipolarity': 368, 'thug': 4036, 'luv': 2382, 'diaper': 1073, 'terribly': 3990, 'award': 254, 'accolade': 27, 'deserving': 1045, 'body': 408, 'garfield': 1671, 'ann': 146, 'revere': 3305, 'lilli': 2305, 'plmer': 2957, 'william': 4452, 'conrad': 805, 'lee': 2269, 'cinematographer': 680, 'james': 2129, 'wong': 4481, 'howe': 1941, 'shame': 3533, 'thomerson': 4018, 'credit': 917, 'version': 4318, 'watchable': 4396, 'problems': 3049, 'the': 4001, 'professor': 3060, 'dumb': 1212, 'established': 1345, 'zombie': 4540, 'necklace': 2628, 'containing': 826, 'meteorite': 2500, 'matthew': 2448, 'wrote': 4514, 'monster': 2555, 'grim': 1770, 'pace': 2798, 'lighting': 2298, 'notable': 2680, 'gore': 1733, 'convention': 844, 'past': 2840, 'cg': 607, 'opening': 2737, 'slideshow': 3631, 'explosion': 1416, 'gas': 1673, 'tank': 3946, 'okay': 2721, 'fair': 1441, 'critic': 924, 'creature': 915, 'ta': 3931, 'slimy': 3636, 'drooling': 1200, 'teeth': 3976, 'sum': 3878, 'breeder': 455, 'avoided': 252, 'ebola': 1246, 'virus': 4338, 'comedic': 736, 'timing': 4054, 'debit': 985, 'popcorn': 2983, 'border': 425, 'lewis': 2289, 'considerable': 808, 'incendiary': 2013, 'unrestrained': 4253, 'sole': 3676, 'bright': 462, 'spot': 3744, 'recent': 3193, 'superbad': 3887, 'interim': 2091, 'originality': 2755, 'freshness': 1623, 'evidently': 1366, 'limited': 2308, 'reflected': 3215, 'par': 2828, 'borrowed': 431, 'filmiing': 1505, 'expansive': 1401, 'convey': 847, 'broad': 469, 'sweep': 3917, 'landscape': 2224, 'asleep': 213, 'trashy': 4125, 'precisely': 3013, 'proudly': 3080, 'classical': 689, 'wb': 4409, 'toon': 4083, 'vibe': 4324, 'delivered': 1024, 'underrated': 4201, 'murky': 2597, 'related': 3235, 'tender': 3984, 'dark': 967, 'sitcom': 3609, 'oriented': 2752, 'teenager': 3975, 'peculiarity': 2865, 'deserved': 1043, 'element': 1275, 'excessively': 1385, 'phony': 2903, 'contrived': 839, 'sit': 3608, 'fifteen': 1494, 'um': 4182, 'perabo': 2874, 'volcano': 4352, 'honest': 1913, 'unbelievable': 4188, 'nonsense': 2673, 'foolish': 1577, 'accent': 15, 'abysmal': 12, 'hypocrisy': 1967, 'vomit': 4355, 'rubbish': 3368, 'researched': 3282, 'pitch': 2922, 'omit': 2730, 'instant': 2068, 'catchy': 585, 'miss': 2532, 'simmering': 3593, 'boiling': 411, 'wart': 4386, 'poet': 2965, 'bohemian': 409, 'wartime': 4387, 'bombardment': 413, 'london': 2339, 'outward': 2773, 'tranquillity': 4112, 'welsh': 4427, 'coastal': 714, 'retreat': 3299, 'borderline': 427, 'friendship': 1628, 'lust': 2381, 'dedication': 998, 'versus': 4319, 'concern': 782, 'jealousy': 2135, 'rivalry': 3337, 'cowardice': 887, 'egotism': 1266, 'heroism': 1876, 'sacrifice': 3381, 'suggests': 3876, 'brings': 467, 'focus': 1565, 'underlying': 4199, 'served': 3515, 'inappropriate': 2012, 'smiling': 3653, 'keira': 2182, 'knightley': 2205, 'prone': 3071, 'exquisite': 1418, 'inventive': 2101, 'pointillistic': 2969, 'behold': 337, 'continuously': 834, 'bertolucci': 353, 'engaging': 1308, 'sidelined': 3581, 'inexplicable': 2045, 'crew': 920, 'regardless': 3224, 'errol': 1337, 'flynn': 1562, 'custer': 950, 'alongside': 110, 'olivia': 2727, 'havilland': 1835, 'known': 2209, 'dad': 959, 'grew': 1766, 'realised': 3175, 'jim': 2148, 'connor': 804, 'energetic': 1306, 'george': 1693, 'dull': 1211, 'hosting': 1934, 'over': 2775, 'monotonous': 2554, 'guest': 1787, 'shenanigan': 3547, 'surrounding': 3908, 'spy': 3749, 'kidnapped': 2192, 'nasty': 2615, 'foreign': 1584, 'random': 3146, 'taxidermist': 3961, 'stewart': 3791, 'climax': 701, 'embassy': 1285, 'brooding': 472, 'menace': 2485, 'nevertheless': 2647, 'stable': 3751, 'excellently': 1378, 'typical': 4176, 'sci': 3440, 'scot': 3444, 'vandiver': 4296, 'nonetheless': 2672, 'campy': 538, 'delight': 1020, 'bendingly': 350, 'scare': 3428, 'medical': 2466, 'terminology': 3988, 'iffy': 1981, 'insulin': 2073, 'dependant': 1029, 'diabetic': 1069, 'revealing': 3303, 'complexity': 770, 'task': 3954, 'challenge': 612, 'facing': 1434, 'south': 3709, 'africa': 78, 'attempted': 232, 'truth': 4156, 'reconciliation': 3205, 'process': 3052, 'magnificent': 2396, 'woven': 4504, 'splendid': 3738, 'subtitle': 3855, 'aversion': 249, 'therapy': 4008, 'shakespear': 3529, 'macbeth': 2386, 'jason': 2132, 'moved': 2578, 'monolog': 2553, 'brief': 460, 'candle': 545, 'sphere': 3731, 'moral': 2560, 'decay': 988, 'force': 1581, 'helen': 1860, 'baxendale': 313, 'credible': 916, 'cheerfull': 643, 'naughty': 2621, 'deadly': 976, 'taste': 3955, 'evil': 1367, 'shakespears': 3530, 'lyric': 2383, 'delightful': 1021, 'adaptation': 56, 'dr': 1169, 'seuss': 3522, 'brilliantly': 465, 'animated': 143, 'upa': 4261, 'finest': 1514, 'academy': 14, 'integral': 2077, 'helping': 1869, 'bailey': 282, 'beautifully': 321, 'costume': 869, 'eiko': 1268, 'ishioka': 2119, 'dracula': 1170, 'format': 1594, 'baaaaaad': 265, 'collect': 725, 'extant': 1419, 'austen': 242, 'consolation': 813, 'speaking': 3721, 'unbearably': 4187, 'kitchy': 2203, 'raw': 3163, 'sublimely': 3851, 'theatrical': 4004, 'terror': 3992, 'escalating': 1339, 'monstrous': 2556, 'consequence': 806, 'mesmerising': 2494, 'wilkinson': 4451, 'judging': 2164, 'fumbling': 1646, 'hanky': 1817, 'male': 2409, 'alike': 99, 'julian': 2168, 'fellowes': 1486, 'triumphed': 4144, 'national': 2616, 'treasure': 4128, 'phrase': 2907, 'owed': 2790, 'kris': 2211, 'kristoffersen': 2212, 'difference': 1078, 'marriage': 2433, 'error': 1338, 'commented': 748, 'garage': 1666, 'joe': 2151, 'facial': 1433, 'configuration': 791, 'inspiration': 2062, 'overcome': 2778, 'rejection': 3233, 'punishment': 3105, 'park': 2831, 'southern': 3710, 'california': 527, 'desert': 1042, 'patent': 2844, 'watkins': 4402, 'peter': 2891, 'accessible': 20, 'thinking': 4014, 'miserable': 2527, 'hollow': 1906, 'laughable': 2249, 'angela': 135, 'bennett': 351, 'expert': 1410, 'pretext': 3032, 'repeating': 3268, 'robotic': 3345, 'delete': 1015, 'begin': 333, 'as': 207, 'uncalled': 4190, 'geek': 1678, 'bible': 360, 'thumper': 4038, 'heard': 1848, 'cole': 723, 'pulling': 3100, 'equivalent': 1332, 'dickens': 1074, 'carol': 564, 'sensibility': 3498, 'success': 3862, 'depends': 1031, 'sydney': 3925, 'greenstreet': 1764, 'yardley': 4517, 'pleasing': 2951, 'rpg': 3365, 'disgrace': 1113, 'respecting': 3288, 'rpger': 3366, 'youtube': 4532, 'lassie': 2233, 'sleep': 3625, 'painfully': 2809, 'dreary': 1184, 'waster': 4393, 'becomes': 326, 'forgettable': 1589, 'achievement': 38, 'shell': 3546, 'barking': 298, 'relaxing': 3242, 'late': 2240, 'title': 4060, 'tough': 4096, 'dignity': 1081, 'shocking': 3560, 'whenever': 4432, 'memorized': 2483, 'fishnet': 1524, 'astonishingly': 220, 'ham': 1801, 'fisted': 1525, 'earth': 1237, 'iron': 2114, 'emily': 1289, 'watson': 4403, 'unconditional': 4192, 'prepared': 3024, 'ordeal': 2747, 'progress': 3064, 'anguish': 140, 'pan': 2820, 'interview': 2097, 'vampire': 4295, 'lestat': 2283, 'stuart': 3831, 'townsend': 4100, 'cruise': 934, 'aailiyah': 0, 'akasha': 92, 'compelling': 759, 'entrance': 1326, 'dance': 964, 'rice': 3316, 'sensitivity': 3500, 'treatment': 4131, 'detail': 1060, 'dysfunction': 1225, 'football': 1580, 'perplexing': 2886, 'skilled': 3617, 'meredith': 2492, 'sentiment': 3503, 'worthy': 4500, 'trap': 4123, 'syrupy': 3929, 'nine': 2661, 'goremeister': 1734, 'lucio': 2374, 'fulci': 1641, 'giallo': 1699, 'sub': 3848, 'genre': 1688, 'italian': 2121, 'standout': 3759, 'unpleasant': 4243, 'technically': 3970, 'riz': 3339, 'ortolani': 2757, 'recurring': 3207, 'unaccompanied': 4185, 'vocal': 4348, 'distant': 1130, 'beginning': 334, 'dustin': 1219, 'hoffman': 1899, 'personally': 2890, 'involving': 2106, 'tired': 4059, 'thick': 4010, 'blown': 396, 'jennifer': 2139, 'rubin': 3369, 'harris': 1828, 'nervous': 2642, 'starlet': 3762, 'event': 1357, 'coach': 712, 'snow': 3664, 'ultra': 4181, 'exciting': 1389, 'slightest': 3633, 'uniqueness': 4229, 'foreigner': 1585, 'stranger': 3811, 'duet': 1210, 'astronaut': 221, 'doctor': 1144, 'considers': 811, 'cold': 721, 'ussr': 4285, 'scream': 3448, 'extraordinary': 1426, 'courtroom': 882, 'indictment': 2033, 'justice': 2173, 'system': 3930, 'highlight': 1883, 'fundamental': 1651, 'legal': 2273, 'discovering': 1111, 'guilt': 1788, 'innocence': 2054, 'court': 880, 'understated': 4204, 'routine': 3362, 'based': 303, 'constantine': 815, 'intensity': 2084, 'motivation': 2568, 'inspiring': 2064, 'stinker': 3795, 'direct': 1088, 'release': 3243, 'trek': 4132, 'frontier': 1632, 'includes': 2016, 'shatner': 3540, 'nimoy': 2660, 'washed': 4389, 'tacky': 3933, 'spock': 3739, 'rescue': 3280, 'kirk': 2200, 'jet': 2145, 'mountain': 2573, 'humor': 1954, 'dosen': 1156, 'involves': 2105, 'vulcan': 4360, 'stealing': 3778, 'enterprise': 1319, 'uhura': 4180, 'belly': 345, 'distract': 1133, 'guard': 1785, 'phenomenal': 2897, 'opinion': 2742, 'subject': 3849, 'jay': 2134, 'adam': 55, 'unfortunate': 4218, 'neil': 2639, 'evokes': 1369, 'grainy': 1747, 'enhanced': 1311, 'surprise': 3904, 'achille': 39, 'philippa': 2899, 'sing': 3601, 'giovanni': 1704, 'describes': 1039, 'appreciate': 182, 'layer': 2254, 'jutland': 2174, 'instrument': 2072, 'general': 1682, 'loewenhielm': 2336, 'partaking': 2834, 'cailles': 523, 'en': 1298, 'sarcophage': 3406, 'sample': 3397, 'savor': 3421, 'impression': 2004, 'generates': 1684, 'austere': 243, 'backdrop': 273, 'wanting': 4378, 'notch': 2681, 'fleshed': 1545, 'grime': 1771, 'blake': 381, 'deliver': 1023, 'sharply': 3539, 'scripted': 3457, 'deadpan': 977, 'tongue': 4078, 'cheek': 641, 'angus': 141, 'scrimm': 3455, 'gently': 1690, 'menacing': 2486, 'violin': 4334, 'anatomist': 132, 'entertained': 1320, 'struggle': 3830, 'phantasm': 2896, 'collective': 726, 'concerning': 783, 'kudos': 2214, 'juano': 2162, 'hernandez': 1873, 'supporting': 3895, 'murdering': 2596, 'trumbull': 4152, 'reminded': 3254, 'evinced': 1368, 'faithful': 1443, 'joyce': 2161, 'acclaimed': 26, 'novella': 2688, 'gabriel': 1658, 'intangible': 2076, 'leap': 2262, 'viewer': 4328, 'grasp': 1751, 'wondered': 4478, 'shortlist': 3568, 'emperor': 1293, 'spend': 3727, 'childhood': 656, 'surely': 3901, 'coherent': 720, 'obliged': 2697, 'write': 4508, 'creative': 913, 'subplots': 3854, 'native': 2618, 'eating': 1244, 'brainsucking': 447, 'telly': 3980, 'savalas': 3416, 'boyle': 445, 'sheer': 3544, 'tedium': 3973, 'melodrama': 2477, 'sinking': 3606, 'lord': 2350, 'atrocious': 225, 'stink': 3794, 'establish': 1344, 'follows': 1572, 'band': 291, 'latter': 2247, 'mansonites': 2420, 'reporter': 3275, 'anniversary': 148, 'spoil': 3740, 'indication': 2032, 'meld': 2475, 'volatile': 4351, 'temperament': 3982, 'seamless': 3463, 'union': 4227, 'creativity': 914, 'powerhouse': 3008, 'fascination': 1464, 'celebrity': 596, 'interpretation': 2096, 'fame': 1449, 'forgotten': 1592, 'kevin': 2185, 'spacey': 3715, 'verbal': 4313, 'tsunami': 4160, 'buddy': 486, 'ackerman': 40, 'scripting': 3458, 'unmatched': 4237, 'younger': 4530, 'reference': 3213, 'galley': 1662, 'pm': 2962, 'forwarded': 1600, 'horrendously': 1925, 'captain': 552, 'howdy': 1940, 'semi': 3492, 'truck': 4148, 'linda': 2309, 'cardellini': 559, 'poised': 2971, 'dee': 999, 'snider': 3663, 'act': 43, 'damn': 963, 'pacing': 2800, 'sophisticated': 3696, 'miserably': 2528, 'unoriginal': 4242, 'cinematic': 679, 'captured': 554, 'celluloid': 600, 'stayed': 3774, 'supernatural': 3892, 'consistent': 812, 'thread': 4025, 'leni': 2278, 'parker': 2832, 'anita': 145, 'laselva': 2232, 'taelons': 3935, 'idealogical': 1974, 'atmosphere': 224, 'puppet': 3106, 'explains': 1412, 'sinister': 3604, 'origin': 2753, 'insomniac': 2061, 'heartwarming': 1851, 'chasing': 632, 'dream': 1182, 'nurse': 2693, 'unpredictability': 4244, 'labute': 2216, 'us': 4274, 'brutal': 481, 'violence': 4333, 'seperate': 3504, 'secondary': 3475, 'incomprehensible': 2019, 'primary': 3042, 'mystifying': 2604, 'doubt': 1158, 'warn': 4383, 'dumbest': 1213, 'hbo': 1840, 'hopefully': 1921, 'cox': 888, 'win': 4455, 'agree': 84, 'jessica': 2143, 'dimensional': 1083, 'elaborately': 1270, 'aesthetically': 73, 'sculpture': 3459, 'soap': 3667, 'opera': 2738, 'hip': 1891, 'pray': 3012, 'charismatic': 626, 'paolo': 2825, 'sorrentino': 3699, 'loneliness': 2340, 'tony': 4080, 'unforgettable': 4217, 'titta': 4061, 'di': 1068, 'girolamo': 1707, 'vision': 4339, 'emilio': 1288, 'estevez': 1348, 'debut': 986, 'interplay': 2095, 'suggest': 3874, 'natural': 2619, 'street': 3817, 'charlie': 628, 'kathy': 2178, 'bates': 309, 'desperation': 1051, 'escapism': 1340, 'variation': 4298, 'field': 1493, 'reader': 3171, 'miyazaki': 2537, 'condescends': 787, 'paint': 2810, 'photograph': 2905, 'poignant': 2967, 'realized': 3179, 'closed': 707, 'depicts': 1033, 'alert': 97, 'decipher': 993, 'matrix': 2446, 'mindblowing': 2519, 'rickman': 3319, 'stowe': 3809, 'hilt': 1889, 'childrens': 657, 'subversive': 3857, 'tract': 4106, 'gloriously': 1715, 'accurate': 34, 'raver': 3160, 'idyllic': 1980, 'down': 1162, 'groove': 1777, 'antithesis': 157, 'traffic': 4108, 'crowe': 932, 'picked': 2912, 'government': 1741, 'scientist': 3442, 'argued': 188, 'humanity': 1949, 'dwight': 1222, 'schultz': 3439, 'sincere': 3600, 'critical': 925, 'gorman': 1735, 'bechard': 324, 'homework': 1911, 'appropriate': 183, 'capture': 553, 'essence': 1342, 'track': 4103, 'command': 745, 'contributing': 837, 'threshold': 4027, 'hayao': 1838, 'eighth': 1267, 'ghibili': 1698, 'gake': 1661, 'ue': 4177, 'ponyo': 2978, 'cliff': 700, 'animation': 144, 'dominated': 1149, 'disney': 1121, 'pixar': 2924, 'cgi': 608, 'refreshing': 3217, 'comforting': 742, 'relying': 3249, 'traditional': 4107, 'drawn': 1181, 'enchanting': 1299, 'remarkable': 3252, 'pencil': 2869, 'drawing': 1180, 'colorful': 730, 'fanciful': 1455, 'drift': 1191, 'surf': 3902, 'wave': 4404, 'deep': 1000, 'impact': 1997, 'armageddon': 191, 'choked': 669, 'vessel': 4320, 'taken': 3938, 'mighty': 2512, 'frost': 1633, 'added': 59, 'fest': 1490, 'spoiled': 3741, 'brat': 449, 'babysitting': 270, 'sunday': 3883, 'march': 2425, 'judith': 2165, 'sad': 3382, 'cutie': 956, 'confidence': 790, 'riot': 3330, 'hugo': 1947, 'weaving': 4415, 'obsessed': 2698, 'gay': 1676, 'estate': 1347, 'salesman': 3390, 'client': 699, 'tryst': 4159, 'flaming': 1532, 'darren': 969, 'hollander': 1905, 'flowed': 1556, 'bonding': 415, 'hoot': 1918, 'lange': 2226, 'jessice': 2144, 'clothes': 708, 'virtue': 4337, 'regrettable': 3227, 'exceptionally': 1382, 'crust': 936, 'tasty': 3959, 'texture': 3995, 'bank': 292, 'holiday': 1904, 'rick': 3318, 'recommendation': 3202, 'pho': 2900, 'honeslty': 1912, 'potato': 3001, 'ahead': 86, 'warmer': 4381, 'cashier': 576, 'wayyy': 4408, 'overpriced': 2785, 'cape': 550, 'cod': 718, 'ravoli': 3162, 'chicken': 654, 'cranberry': 897, 'mmmm': 2538, 'disgusted': 1116, 'shocked': 3559, 'indicate': 2031, 'cash': 574, 'vega': 4300, 'burrittos': 503, 'food': 1575, 'interior': 2092, 'velvet': 4307, 'cake': 524, 'ohhh': 2718, 'brought': 474, 'salad': 3389, 'asked': 211, 'taco': 3934, 'staff': 3752, 'table': 3932, 'restaurant': 3292, 'luke': 2378, 'warm': 4380, 'sever': 3523, 'overwhelmed': 2788, 'salmon': 3391, 'sashimi': 3407, 'combo': 734, 'burger': 501, 'beer': 331, 'blow': 395, 'accident': 24, 'grab': 1742, 'bite': 375, 'familiar': 1451, 'pub': 3093, 'favor': 1474, 'portion': 2988, 'waiter': 4367, 'visit': 4340, 'hiro': 1892, 'shrimp': 3576, 'moist': 2544, 'establishment': 1346, 'grossed': 1779, 'melted': 2479, 'styrofoam': 3847, 'eat': 1242, 'server': 3516, 'attentive': 235, 'frozen': 1634, 'puck': 3096, 'disgust': 1115, 'register': 3225, 'rib': 3314, 'dessert': 1055, 'section': 3477, 'beef': 328, 'cooked': 852, 'sandwich': 3402, 'firehouse': 1521, 'greek': 1762, 'dressing': 1187, 'pita': 2921, 'hummus': 1953, 'duck': 1207, 'pink': 2919, 'char': 617, 'husband': 1962, 'mein': 2474, 'attitude': 236, 'attack': 229, 'grill': 1768, 'downtown': 1167, 'lined': 2312, 'seafood': 3461, 'pasta': 2841, 'sauce': 3414, 'scallop': 3426, 'banana': 290, 'petrified': 2892, 'tasteless': 3957, 'refill': 3214, 'receives': 3191, 'appetizer': 176, 'cocktail': 716, 'handmade': 1810, 'delicious': 1018, 'military': 2514, 'do': 1142, 'gringo': 1772, 'salt': 3394, 'batter': 311, 'chewy': 652, 'finish': 1517, 'tasting': 3958, 'drink': 1193, 'jeff': 2137, 'meh': 2473, 'milkshake': 2516, 'chocolate': 666, 'milk': 2515, 'excalibur': 1373, 'common': 750, 'dish': 1118, 'seasoned': 3469, 'lunch': 2380, 'cheated': 637, 'opportunity': 2743, 'experiencing': 1409, 'underwhelming': 4209, 'wait': 4365, 'smelled': 3651, 'grease': 1755, 'roast': 3342, 'raving': 3161, 'sugary': 3873, 'tailored': 3936, 'palate': 2816, 'six': 3614, 'yummy': 4536, 'meat': 2462, 'ratio': 3158, 'unsatisfying': 4255, 'omelet': 2728, 'die': 1075, 'dining': 1085, 'sexy': 3528, 'outrageously': 2768, 'flirting': 1551, 'hottest': 1936, 'casino': 578, 'forward': 1599, 'breakfast': 453, 'bye': 516, 'cafe': 521, 'serf': 3508, 'roasted': 3343, 'garlic': 1672, 'bone': 416, 'marrow': 2434, 'meal': 2457, 'bloddy': 391, 'mary': 2437, 'town': 4099, 'mussel': 2601, 'wine': 4458, 'reduction': 3211, 'tigerlilly': 4046, 'bartender': 301, 'personable': 2888, 'ambience': 124, 'sooooo': 3694, 'sushi': 3912, 'lover': 2367, 'yama': 4516, 'arriving': 199, 'busy': 508, 'thai': 3997, 'spicy': 3734, 'steak': 3776, 'actual': 52, 'blandest': 384, 'eaten': 1243, 'preparing': 3025, 'indian': 2030, 'cuisine': 941, 'loving': 2368, 'venture': 4310, 'host': 1932, 'bitch': 373, 'liking': 2303, 'reviewing': 3310, 'ambiance': 123, 'venturing': 4311, 'pork': 2985, 'penne': 2870, 'vodka': 4349, 'meatloaf': 2464, 'crispy': 923, 'delish': 1022, 'tuna': 4163, 'melt': 2478, 'rude': 3370, 'bagel': 281, 'cream': 908, 'cheese': 645, 'lox': 2371, 'caper': 551, 'subway': 3859, 'meet': 2470, 'dine': 1084, 'weekend': 4421, 'suggestion': 3875, 'rarely': 3152, 'ate': 222, 'curry': 947, 'bamboo': 289, 'shoot': 3562, 'blanket': 386, 'moz': 2582, 'subpar': 3853, 'bathroom': 310, 'clean': 691, 'decorated': 996, 'ignore': 1982, 'fiancé': 1492, 'greeted': 1765, 'seated': 3472, 'mandalay': 2417, 'bay': 314, 'waited': 4366, 'forty': 1598, 'vain': 4291, 'crostini': 929, 'stale': 3756, 'nigiri': 2659, 'joint': 2155, 'flavored': 1537, 'voodoo': 4357, 'gluten': 1718, 'leftover': 2271, 'relocated': 3248, 'diverse': 1138, 'phoenix': 2901, 'treated': 4130, 'bacon': 277, 'hella': 1862, 'salty': 3395, 'spinach': 3736, 'avocado': 250, 'ingredient': 2052, 'handed': 1805, 'listed': 2319, 'lordy': 2351, 'khao': 2189, 'soi': 3673, 'accommodation': 28, 'vegetarian': 4303, 'inspired': 2063, 'desired': 1049, 'maintaining': 2402, 'coziness': 889, 'weekly': 4422, 'haunt': 1834, 'asking': 212, 'flavor': 1536, 'overcooked': 2779, 'charcoal': 620, 'decided': 991, 'verge': 4315, 'dressed': 1186, 'rudely': 3371, 'dirt': 1095, 'healthy': 1846, 'quantity': 3126, 'lemon': 2276, 'raspberry': 3153, 'ice': 1970, 'imagined': 1993, 'decor': 995, 'crepe': 919, 'bread': 450, 'butter': 509, 'chip': 663, 'egg': 1264, 'gyro': 1792, 'missing': 2534, 'wing': 4459, 'joey': 2152, 'voted': 4358, 'valley': 4293, 'magazine': 2392, 'bowl': 441, 'live': 2326, 'friday': 1624, 'insulted': 2075, 'disrespected': 1127, 'exceeding': 1374, 'dreamed': 1183, 'serivce': 3513, 'brunch': 478, 'inviting': 2103, 'stepped': 3786, 'mixed': 2536, 'mushroom': 2598, 'yukon': 4534, 'gold': 1725, 'puree': 3112, 'beateous': 319, 'bug': 490, 'climbing': 702, 'tartar': 3952, 'soggy': 3672, 'jamaican': 2128, 'mojitos': 2545, 'rich': 3317, 'accordingly': 32, 'shower': 3575, 'rinse': 3329, 'nude': 2689, 'lobster': 2330, 'bisque': 371, 'bussell': 507, 'sprout': 3748, 'risotto': 3335, 'filet': 1499, 'pepper': 2873, 'bodes': 407, 'cook': 851, 'wrapped': 4507, 'folk': 1568, 'otto': 2761, 'welcome': 4425, 'uninspired': 4223, 'dealing': 980, 'drunk': 1204, 'chef': 650, 'cheeseburger': 646, 'patty': 2850, 'uploaded': 4268, 'sporting': 3743, 'yum': 4535, 'eel': 1258, 'mayo': 2453, 'hardest': 1826, 'rolled': 3353, 'providing': 3085, 'flavourful': 1540, 'freezing': 1617, 'flavorful': 1538, 'ayce': 262, 'mood': 2559, 'gratitude': 1753, 'privileged': 3045, 'creamy': 909, 'similar': 3591, 'silently': 3588, 'pizza': 2926, 'peanut': 2861, 'godfather': 1723, 'recall': 3185, 'tap': 3947, 'generous': 1686, 'visited': 4341, 'proclaimed': 3053, 'coffee': 719, 'wildly': 4450, 'veggitarian': 4305, 'platter': 2941, 'madison': 2391, 'ironman': 2116, 'dedicated': 997, 'boba': 406, 'tea': 3963, 'jenni': 2138, 'patio': 2847, 'outstanding': 2771, 'goat': 1721, 'skimp': 3618, 'mac': 2384, 'bachi': 271, 'burned': 502, 'saganaki': 3385, 'disagree': 1097, 'fellow': 1485, 'yelpers': 4526, 'neighborhood': 2637, 'pulled': 3099, 'soooo': 3693, 'stir': 3796, 'fried': 1625, 'noodle': 2674, 'count': 874, 'greedy': 1761, 'corporation': 863, 'dime': 1082, 'summer': 3881, 'outdoor': 2763, 'toasted': 4065, 'muffin': 2589, 'untoasted': 4256, 'bus': 505, 'figured': 1497, 'publicly': 3095, 'loudly': 2360, 'bbq': 315, 'lighter': 2297, 'downside': 1166, 'shawarrrrrrma': 3542, 'eyed': 1429, 'pea': 2857, 'unreal': 4247, 'serve': 3514, 'vinaigrette': 4331, 'mom': 2547, 'honor': 1915, 'hut': 1964, 'unbelievably': 4189, 'replenished': 3274, 'yucky': 4533, 'omg': 2729, 'delicioso': 1017, 'spaghetti': 3716, 'vegetable': 4302, 'tucson': 4161, 'chipotle': 665, 'succulent': 3863, 'baseball': 302, 'brick': 459, 'oven': 2774, 'app': 169, 'equally': 1330, 'pancake': 2821, 'genuinely': 1692, 'enthusiastic': 1323, 'sadly': 3383, 'gordon': 1732, 'ramsey': 3143, 'shall': 3531, 'evening': 1356, 'door': 1155, 'offered': 2712, 'tasted': 3956, 'handling': 1809, 'rowdy': 3364, 'despicable': 1052, 'soup': 3706, 'lukewarm': 2379, 'craving': 902, 'stomach': 3799, 'ache': 37, 'elegantly': 1274, 'customize': 952, 'eggplant': 1265, 'bean': 316, 'outta': 2772, 'inconsiderate': 2020, 'hi': 1878, 'dinner': 1086, 'outshining': 2769, 'halibut': 1800, 'starving': 3768, 'def': 1002, 'ethic': 1350, 'andddd': 133, 'stuffed': 3837, 'located': 2332, 'crystal': 939, 'shopping': 3566, 'mall': 2410, 'aria': 190, 'summarize': 3879, 'nay': 2623, 'transcendant': 4115, 'pneumatic': 2963, 'condiment': 788, 'dispenser': 1123, 'ians': 1969, 'kiddos': 2191, 'perfection': 2877, 'impeccable': 1998, 'bouchon': 438, 'accountant': 33, 'screwed': 3454, 'reminds': 3255, 'pop': 2982, 'shop': 3565, 'san': 3399, 'francisco': 1609, 'buldogis': 495, 'gourmet': 1740, 'frustrated': 1636, 'petty': 2894, 'iced': 1971, 'hungry': 1959, 'assure': 219, 'sore': 3697, 'regular': 3230, 'companion': 755, 'smeared': 3649, 'tracked': 4104, 'bird': 369, 'poop': 2979, 'furthermore': 1654, 'operation': 2741, 'connisseur': 802, 'topic': 4086, 'strike': 3822, 'rushed': 3375, 'nicest': 2655, 'across': 42, 'biscuit': 370, 'absolutley': 10, 'lb': 2256, 'cow': 886, 'ths': 4035, 'gristle': 1775, 'steiner': 3783, 'pear': 2862, 'almond': 106, 'spicier': 3733, 'prefer': 3017, 'ribeye': 3315, 'mesquite': 2495, 'anytime': 161, 'gooodd': 1731, 'connoisseur': 803, 'driest': 1190, 'mouthful': 2576, 'relaxed': 3241, 'venue': 4312, 'group': 1781, 'nargile': 2612, 'tater': 3960, 'tot': 4090, 'southwest': 3711, 'vanilla': 4297, 'smooth': 3657, 'profiterole': 3061, 'chou': 672, 'pastry': 2842, 'az': 264, 'manager': 2415, 'carly': 563, 'acknowledged': 41, 'margarita': 2426, 'ventilation': 4308, 'upgrading': 4265, 'letdown': 2285, 'camelback': 533, 'flower': 1557, 'cartel': 571, 'trimmed': 4140, 'claimed': 685, 'jewel': 2146, 'boiled': 410, 'crab': 890, 'leg': 2272, 'toro': 4087, 'tartare': 3953, 'cavier': 591, 'thinly': 4015, 'sliced': 3627, 'wagyu': 4364, 'truffle': 4150, 'attached': 228, 'decide': 990, 'humiliated': 1950, 'worker': 4490, 'name': 2609, 'calling': 531, 'filling': 1502, 'daily': 960, 'tragedy': 4109, 'crawfish': 903, 'multi': 2591, 'grain': 1746, 'pumpkin': 3101, 'pecan': 2864, 'fluffy': 1558, 'airline': 90, 'noca': 2666, 'lettuce': 2287, 'homemade': 1910, 'cheesecurds': 647, 'beauty': 322, 'greasy': 1756, 'unhealthy': 4222, 'similarly': 3592, 'apology': 168, 'tiramisu': 4058, 'cannoli': 546, 'sun': 3882, 'choose': 670, 'frenchman': 1619, 'martini': 2436, 'entree': 1327, 'gc': 1677, 'thirty': 4017, 'vacant': 4290, 'yellowtail': 4524, 'carpaccio': 565, 'hello': 1864, 'donut': 1153, 'saving': 3420, 'disgraceful': 1114, 'suffers': 3871, 'tapa': 3948, 'vinegrette': 4332, 'hankering': 1816, 'helped': 1867, 'theft': 4005, 'eew': 1259, 'overhaul': 2781, 'witnessed': 4471, 'regularly': 3231, 'swung': 3924, 'efficient': 1262, 'sucker': 3866, 'olive': 2726, 'perpared': 2885, 'presentation': 3028, 'giant': 1700, 'slice': 3626, 'dusted': 1218, 'powdered': 3005, 'sugar': 3872, 'fo': 1564, 'accomodate': 29, 'vegan': 4301, 'veggie': 4304, 'crumby': 935, 'pale': 2817, 'crouton': 930, 'crema': 918, 'café': 522, 'expanded': 1400, 'philadelphia': 2898, 'satisfying': 3412, 'north': 2677, 'scottsdale': 3445, 'soooooo': 3695, 'freaking': 1611, 'reheated': 3232, 'wedge': 4419, 'absolute': 7, 'bloody': 394, 'grilled': 1769, 'yellow': 4523, 'saffron': 3384, 'seasoning': 3470, 'focused': 1566, 'grandmother': 1748, 'ignored': 1983, 'hostess': 1933, 'shirt': 3558, 'drastically': 1178, 'caesar': 520, 'madhouse': 2390, 'proven': 3081, 'macarons': 2385, 'insanely': 2056, 'informative': 2049, 'edible': 1252, 'promise': 3065, 'plater': 2940, 'relax': 3240, 'seating': 3473, 'legit': 2275, 'somethat': 3683, 'duo': 1214, 'violinist': 4335, 'requested': 3277, 'baklava': 284, 'falafel': 1444, 'baba': 266, 'ganoush': 1665, 'staying': 3775, 'mgm': 2503, 'courteous': 881, 'eclectic': 1249, 'onion': 2732, 'nobu': 2665, 'google': 1730, 'smashburger': 3648, 'plantain': 2935, 'spends': 3728, 'panna': 2823, 'cotta': 870, 'fail': 1438, 'slaw': 3623, 'drenched': 1185, 'piano': 2910, 'rge': 3312, 'fillet': 1501, 'relleno': 3247, 'plate': 2939, 'sergeant': 3509, 'auju': 240, 'hawaiian': 1836, 'breeze': 456, 'mango': 2418, 'magic': 2393, 'pineapple': 2918, 'smoothy': 3660, 'mortified': 2564, 'anyways': 163, 'dripping': 1195, 'serving': 3518, 'hospitality': 1931, 'paradise': 2829, 'refrained': 3216, 'recommending': 3204, 'cibo': 677, 'dough': 1160, 'elk': 1277, 'hooked': 1917, 'sorely': 3698, 'quaint': 3123, 'deliciously': 1019, 'dylan': 1224, 'tummy': 4162, 'gratuity': 1754, 'larger': 2231, 'fly': 1560, 'apple': 179, 'han': 1803, 'nan': 2610, 'edinburgh': 1253, 'revisiting': 3311, 'naan': 2606, 'pine': 2917, 'touched': 4094, 'airport': 91, 'speedy': 3726, 'calligraphy': 530, 'stood': 3800, 'extensive': 1421, 'inflate': 2047, 'smaller': 3644, 'grow': 1782, 'rapidly': 3150, 'lil': 2304, 'fuzzy': 1656, 'wonton': 4483, 'spice': 3732, 'whelm': 4431, 'mid': 2509, 'arepas': 187, 'jalapeno': 2127, 'shoe': 3561, 'definately': 1008, 'block': 390, 'fancy': 1456, 'affordable': 76, 'hunan': 1957, 'flair': 1530, 'nutshell': 2695, 'restaraunt': 3290, 'sewer': 3526, 'veal': 4299, 'satifying': 3410, 'email': 1281, 'colder': 722, 'flavorless': 1539, 'describing': 1040, 'tepid': 3986, 'chain': 610, 'nacho': 2607, 'jury': 2172, 'lawyer': 2253, 'arrives': 198, 'paying': 2854, 'wienerschnitzel': 4446, 'maine': 2399, 'law': 2252, 'hereas': 1872, 'tribute': 4136, 'held': 1859, 'salsa': 3393, 'pissd': 2920, 'golden': 1726, 'fell': 1483, 'bruschetta': 479, 'devine': 1067, 'employee': 1294, 'lastly': 2237, 'mozzarella': 2583, 'negligent': 2635, 'unwelcome': 4259, 'packed': 2804, 'seasonal': 3468, 'fruit': 1635, 'peach': 2858, 'officially': 2715, 'container': 825, 'opposed': 2744, 'cramming': 896, 'takeout': 3939, 'crêpe': 940, 'delicate': 1016, 'kabuki': 2176, 'maria': 2427, 'article': 201, 'fucking': 1640, 'caballero': 518, 'oyster': 2797, 'qualified': 3124, 'tolerance': 4071, 'polite': 2974, 'wash': 4388, 'heat': 1852, 'coconut': 717, 'fella': 1484, 'huevos': 1945, 'rancheros': 3145, 'pricey': 3039, 'temp': 3981, 'prepare': 3023, 'bare': 295, 'oil': 2719, 'pleasure': 2952, 'plethora': 2956, 'seal': 3462, 'approval': 184, 'college': 727, 'cooking': 853, 'besides': 354, 'costco': 868, 'highlighted': 1884, 'grocery': 1776, 'dude': 1208, 'doughy': 1161, 'albondigas': 96, 'tomato': 4074, 'meatball': 2463, 'occasion': 2701, 'bloodiest': 393, 'anymore': 158, 'chai': 609, 'latte': 2246, 'allergy': 100, 'clue': 710, 'contain': 823, 'mediterranean': 2468, 'mellow': 2476, 'strawberry': 3815, 'unprofessional': 4246, 'loyal': 2372, 'patron': 2849, 'occasional': 2702, 'pat': 2843, 'bellagio': 343, 'anticipated': 156, 'sals': 3392, 'fav': 1473, 'unexperienced': 4214, 'steakhouse': 3777, 'concept': 779, 'guacamole': 1784, 'puréed': 3115, 'postinos': 3000, 'poisoning': 2972, 'batch': 308, 'yay': 4519, 'eve': 1354, 'caring': 562, 'teamwork': 3967, 'degree': 1012, 'ri': 3313, 'calamari': 525, 'fondue': 1574, 'denny': 1028, 'downright': 1165, 'waaaaaayyyyyyyyyy': 4362, 'sangria': 3403, 'brisket': 468, 'trippy': 4143, 'hurry': 1960, 'reservation': 3283, 'stretch': 3820, 'cashew': 575, 'undercooked': 4197, 'chipolte': 664, 'ranch': 3144, 'dipping': 1087, 'sause': 3415, 'watered': 4400, 'douchey': 1159, 'garden': 1670, 'con': 777, 'spotty': 3745, 'ensued': 1317, 'apologize': 167, 'binge': 366, 'drinking': 1194, 'carbs': 556, 'profound': 3062, 'deuchebaggery': 1063, 'solidify': 3678, 'ala': 94, 'cart': 570, 'blame': 382, 'rave': 3159, 'del': 1013, 'hamburger': 1802, 'ya': 4515, 'fireball': 1520, 'disapppointment': 1104, 'correction': 865, 'heimer': 1857, 'brownish': 475, 'ha': 1793, 'bigger': 362, 'unwrapped': 4260, 'mile': 2513, 'brushfire': 480, 'mirage': 2525, 'refried': 3218, 'dried': 1189, 'crusty': 937, 'caterpillar': 586, 'appetite': 175, 'instantly': 2069, 'ninja': 2662, 'poured': 3004, 'wound': 4503}\n"
     ]
    }
   ],
   "source": [
    "vectorizer = TfidfVectorizer()\n",
    "vectorizer.fit(df_tweet['Tresc_wyczyszczona'])\n",
    "print(vectorizer.vocabulary_)"
   ]
  },
  {
   "cell_type": "markdown",
   "metadata": {},
   "source": [
    "Wiersze reprezentują wiadomości, a kolumny słowa"
   ]
  },
  {
   "cell_type": "code",
   "execution_count": 11,
   "metadata": {},
   "outputs": [
    {
     "name": "stdout",
     "output_type": "stream",
     "text": [
      "(2748, 4542)\n",
      "[[0. 0. 0. ... 0. 0. 0.]\n",
      " [0. 0. 0. ... 0. 0. 0.]\n",
      " [0. 0. 0. ... 0. 0. 0.]\n",
      " ...\n",
      " [0. 0. 0. ... 0. 0. 0.]\n",
      " [0. 0. 0. ... 0. 0. 0.]\n",
      " [0. 0. 0. ... 0. 0. 0.]]\n"
     ]
    }
   ],
   "source": [
    "tfidf_matrix = vectorizer.transform(df_tweet['Tresc_wyczyszczona']).todense()\n",
    "print(tfidf_matrix.shape)\n",
    "print(tfidf_matrix)"
   ]
  },
  {
   "cell_type": "markdown",
   "metadata": {},
   "source": [
    "Redukcja wymiaru"
   ]
  },
  {
   "cell_type": "code",
   "execution_count": 12,
   "metadata": {
    "scrolled": true
   },
   "outputs": [],
   "source": [
    "svd = TruncatedSVD(n_components=12) \n",
    "svd.fit(tfidf_matrix)\n",
    "\n",
    "docs_red = svd.transform(tfidf_matrix)"
   ]
  },
  {
   "cell_type": "markdown",
   "metadata": {},
   "source": [
    "Przygotowany zbiór danych dzielony jest na zbiór testowy i uczony. Proporcje podziału zaprezentowano na diagramie"
   ]
  },
  {
   "cell_type": "code",
   "execution_count": 13,
   "metadata": {},
   "outputs": [
    {
     "data": {
      "image/png": "[encoded data removed]",
      "text/plain": [
       "<Figure size 432x288 with 1 Axes>"
      ]
     },
     "metadata": {
      "needs_background": "light"
     },
     "output_type": "display_data"
    }
   ],
   "source": [
    "X_train, X_test, y_train, y_test = train_test_split(df_tweet['Tresc_wyczyszczona'], df_tweet['Klasyfikacja'], test_size=0.2)\n",
    "\n",
    "plt.hist(y_train, alpha=0.5)\n",
    "plt.hist(y_test, alpha=0.5)\n",
    "plt.show()"
   ]
  },
  {
   "cell_type": "markdown",
   "metadata": {},
   "source": [
    "Poniżej użyto 4 metod klasyfikacji do próby przewidzenia sentymentu wiadomości \"tweet\" w zbiorze danych"
   ]
  },
  {
   "cell_type": "markdown",
   "metadata": {},
   "source": [
    "**Model Regresja Liniowa**"
   ]
  },
  {
   "cell_type": "code",
   "execution_count": 14,
   "metadata": {},
   "outputs": [
    {
     "name": "stderr",
     "output_type": "stream",
     "text": [
      "E:\\Data Science\\Anaconda\\lib\\site-packages\\sklearn\\linear_model\\logistic.py:433: FutureWarning: Default solver will be changed to 'lbfgs' in 0.22. Specify a solver to silence this warning.\n",
      "  FutureWarning)\n",
      "E:\\Data Science\\Anaconda\\lib\\site-packages\\sklearn\\linear_model\\logistic.py:433: FutureWarning: Default solver will be changed to 'lbfgs' in 0.22. Specify a solver to silence this warning.\n",
      "  FutureWarning)\n",
      "E:\\Data Science\\Anaconda\\lib\\site-packages\\sklearn\\linear_model\\logistic.py:433: FutureWarning: Default solver will be changed to 'lbfgs' in 0.22. Specify a solver to silence this warning.\n",
      "  FutureWarning)\n",
      "E:\\Data Science\\Anaconda\\lib\\site-packages\\sklearn\\linear_model\\logistic.py:433: FutureWarning: Default solver will be changed to 'lbfgs' in 0.22. Specify a solver to silence this warning.\n",
      "  FutureWarning)\n",
      "E:\\Data Science\\Anaconda\\lib\\site-packages\\sklearn\\linear_model\\logistic.py:433: FutureWarning: Default solver will be changed to 'lbfgs' in 0.22. Specify a solver to silence this warning.\n",
      "  FutureWarning)\n",
      "E:\\Data Science\\Anaconda\\lib\\site-packages\\sklearn\\linear_model\\logistic.py:433: FutureWarning: Default solver will be changed to 'lbfgs' in 0.22. Specify a solver to silence this warning.\n",
      "  FutureWarning)\n",
      "E:\\Data Science\\Anaconda\\lib\\site-packages\\sklearn\\linear_model\\logistic.py:433: FutureWarning: Default solver will be changed to 'lbfgs' in 0.22. Specify a solver to silence this warning.\n",
      "  FutureWarning)\n",
      "E:\\Data Science\\Anaconda\\lib\\site-packages\\sklearn\\linear_model\\logistic.py:433: FutureWarning: Default solver will be changed to 'lbfgs' in 0.22. Specify a solver to silence this warning.\n",
      "  FutureWarning)\n",
      "E:\\Data Science\\Anaconda\\lib\\site-packages\\sklearn\\linear_model\\logistic.py:433: FutureWarning: Default solver will be changed to 'lbfgs' in 0.22. Specify a solver to silence this warning.\n",
      "  FutureWarning)\n",
      "E:\\Data Science\\Anaconda\\lib\\site-packages\\sklearn\\linear_model\\logistic.py:433: FutureWarning: Default solver will be changed to 'lbfgs' in 0.22. Specify a solver to silence this warning.\n",
      "  FutureWarning)\n",
      "E:\\Data Science\\Anaconda\\lib\\site-packages\\sklearn\\linear_model\\logistic.py:433: FutureWarning: Default solver will be changed to 'lbfgs' in 0.22. Specify a solver to silence this warning.\n",
      "  FutureWarning)\n",
      "E:\\Data Science\\Anaconda\\lib\\site-packages\\sklearn\\linear_model\\logistic.py:433: FutureWarning: Default solver will be changed to 'lbfgs' in 0.22. Specify a solver to silence this warning.\n",
      "  FutureWarning)\n",
      "E:\\Data Science\\Anaconda\\lib\\site-packages\\sklearn\\linear_model\\logistic.py:433: FutureWarning: Default solver will be changed to 'lbfgs' in 0.22. Specify a solver to silence this warning.\n",
      "  FutureWarning)\n",
      "E:\\Data Science\\Anaconda\\lib\\site-packages\\sklearn\\linear_model\\logistic.py:433: FutureWarning: Default solver will be changed to 'lbfgs' in 0.22. Specify a solver to silence this warning.\n",
      "  FutureWarning)\n",
      "E:\\Data Science\\Anaconda\\lib\\site-packages\\sklearn\\linear_model\\logistic.py:433: FutureWarning: Default solver will be changed to 'lbfgs' in 0.22. Specify a solver to silence this warning.\n",
      "  FutureWarning)\n",
      "E:\\Data Science\\Anaconda\\lib\\site-packages\\sklearn\\linear_model\\logistic.py:433: FutureWarning: Default solver will be changed to 'lbfgs' in 0.22. Specify a solver to silence this warning.\n",
      "  FutureWarning)\n",
      "E:\\Data Science\\Anaconda\\lib\\site-packages\\sklearn\\linear_model\\logistic.py:433: FutureWarning: Default solver will be changed to 'lbfgs' in 0.22. Specify a solver to silence this warning.\n",
      "  FutureWarning)\n",
      "E:\\Data Science\\Anaconda\\lib\\site-packages\\sklearn\\linear_model\\logistic.py:433: FutureWarning: Default solver will be changed to 'lbfgs' in 0.22. Specify a solver to silence this warning.\n",
      "  FutureWarning)\n",
      "E:\\Data Science\\Anaconda\\lib\\site-packages\\sklearn\\linear_model\\logistic.py:433: FutureWarning: Default solver will be changed to 'lbfgs' in 0.22. Specify a solver to silence this warning.\n",
      "  FutureWarning)\n",
      "E:\\Data Science\\Anaconda\\lib\\site-packages\\sklearn\\linear_model\\logistic.py:433: FutureWarning: Default solver will be changed to 'lbfgs' in 0.22. Specify a solver to silence this warning.\n",
      "  FutureWarning)\n",
      "E:\\Data Science\\Anaconda\\lib\\site-packages\\sklearn\\linear_model\\logistic.py:433: FutureWarning: Default solver will be changed to 'lbfgs' in 0.22. Specify a solver to silence this warning.\n",
      "  FutureWarning)\n",
      "E:\\Data Science\\Anaconda\\lib\\site-packages\\sklearn\\linear_model\\logistic.py:433: FutureWarning: Default solver will be changed to 'lbfgs' in 0.22. Specify a solver to silence this warning.\n",
      "  FutureWarning)\n",
      "E:\\Data Science\\Anaconda\\lib\\site-packages\\sklearn\\linear_model\\logistic.py:433: FutureWarning: Default solver will be changed to 'lbfgs' in 0.22. Specify a solver to silence this warning.\n",
      "  FutureWarning)\n",
      "E:\\Data Science\\Anaconda\\lib\\site-packages\\sklearn\\linear_model\\logistic.py:433: FutureWarning: Default solver will be changed to 'lbfgs' in 0.22. Specify a solver to silence this warning.\n",
      "  FutureWarning)\n",
      "E:\\Data Science\\Anaconda\\lib\\site-packages\\sklearn\\linear_model\\logistic.py:433: FutureWarning: Default solver will be changed to 'lbfgs' in 0.22. Specify a solver to silence this warning.\n",
      "  FutureWarning)\n",
      "E:\\Data Science\\Anaconda\\lib\\site-packages\\sklearn\\linear_model\\logistic.py:433: FutureWarning: Default solver will be changed to 'lbfgs' in 0.22. Specify a solver to silence this warning.\n",
      "  FutureWarning)\n",
      "E:\\Data Science\\Anaconda\\lib\\site-packages\\sklearn\\linear_model\\logistic.py:433: FutureWarning: Default solver will be changed to 'lbfgs' in 0.22. Specify a solver to silence this warning.\n",
      "  FutureWarning)\n",
      "E:\\Data Science\\Anaconda\\lib\\site-packages\\sklearn\\linear_model\\logistic.py:433: FutureWarning: Default solver will be changed to 'lbfgs' in 0.22. Specify a solver to silence this warning.\n",
      "  FutureWarning)\n",
      "E:\\Data Science\\Anaconda\\lib\\site-packages\\sklearn\\linear_model\\logistic.py:433: FutureWarning: Default solver will be changed to 'lbfgs' in 0.22. Specify a solver to silence this warning.\n",
      "  FutureWarning)\n",
      "E:\\Data Science\\Anaconda\\lib\\site-packages\\sklearn\\linear_model\\logistic.py:433: FutureWarning: Default solver will be changed to 'lbfgs' in 0.22. Specify a solver to silence this warning.\n",
      "  FutureWarning)\n",
      "E:\\Data Science\\Anaconda\\lib\\site-packages\\sklearn\\linear_model\\logistic.py:433: FutureWarning: Default solver will be changed to 'lbfgs' in 0.22. Specify a solver to silence this warning.\n",
      "  FutureWarning)\n",
      "E:\\Data Science\\Anaconda\\lib\\site-packages\\sklearn\\linear_model\\logistic.py:433: FutureWarning: Default solver will be changed to 'lbfgs' in 0.22. Specify a solver to silence this warning.\n",
      "  FutureWarning)\n",
      "E:\\Data Science\\Anaconda\\lib\\site-packages\\sklearn\\linear_model\\logistic.py:433: FutureWarning: Default solver will be changed to 'lbfgs' in 0.22. Specify a solver to silence this warning.\n",
      "  FutureWarning)\n",
      "E:\\Data Science\\Anaconda\\lib\\site-packages\\sklearn\\linear_model\\logistic.py:433: FutureWarning: Default solver will be changed to 'lbfgs' in 0.22. Specify a solver to silence this warning.\n",
      "  FutureWarning)\n",
      "E:\\Data Science\\Anaconda\\lib\\site-packages\\sklearn\\linear_model\\logistic.py:433: FutureWarning: Default solver will be changed to 'lbfgs' in 0.22. Specify a solver to silence this warning.\n",
      "  FutureWarning)\n",
      "E:\\Data Science\\Anaconda\\lib\\site-packages\\sklearn\\linear_model\\logistic.py:433: FutureWarning: Default solver will be changed to 'lbfgs' in 0.22. Specify a solver to silence this warning.\n",
      "  FutureWarning)\n",
      "E:\\Data Science\\Anaconda\\lib\\site-packages\\sklearn\\linear_model\\logistic.py:433: FutureWarning: Default solver will be changed to 'lbfgs' in 0.22. Specify a solver to silence this warning.\n",
      "  FutureWarning)\n",
      "E:\\Data Science\\Anaconda\\lib\\site-packages\\sklearn\\linear_model\\logistic.py:433: FutureWarning: Default solver will be changed to 'lbfgs' in 0.22. Specify a solver to silence this warning.\n",
      "  FutureWarning)\n",
      "E:\\Data Science\\Anaconda\\lib\\site-packages\\sklearn\\linear_model\\logistic.py:433: FutureWarning: Default solver will be changed to 'lbfgs' in 0.22. Specify a solver to silence this warning.\n",
      "  FutureWarning)\n",
      "E:\\Data Science\\Anaconda\\lib\\site-packages\\sklearn\\linear_model\\logistic.py:433: FutureWarning: Default solver will be changed to 'lbfgs' in 0.22. Specify a solver to silence this warning.\n",
      "  FutureWarning)\n"
     ]
    },
    {
     "name": "stderr",
     "output_type": "stream",
     "text": [
      "E:\\Data Science\\Anaconda\\lib\\site-packages\\sklearn\\linear_model\\logistic.py:433: FutureWarning: Default solver will be changed to 'lbfgs' in 0.22. Specify a solver to silence this warning.\n",
      "  FutureWarning)\n",
      "E:\\Data Science\\Anaconda\\lib\\site-packages\\sklearn\\linear_model\\logistic.py:433: FutureWarning: Default solver will be changed to 'lbfgs' in 0.22. Specify a solver to silence this warning.\n",
      "  FutureWarning)\n",
      "E:\\Data Science\\Anaconda\\lib\\site-packages\\sklearn\\linear_model\\logistic.py:433: FutureWarning: Default solver will be changed to 'lbfgs' in 0.22. Specify a solver to silence this warning.\n",
      "  FutureWarning)\n",
      "E:\\Data Science\\Anaconda\\lib\\site-packages\\sklearn\\linear_model\\logistic.py:433: FutureWarning: Default solver will be changed to 'lbfgs' in 0.22. Specify a solver to silence this warning.\n",
      "  FutureWarning)\n",
      "E:\\Data Science\\Anaconda\\lib\\site-packages\\sklearn\\linear_model\\logistic.py:433: FutureWarning: Default solver will be changed to 'lbfgs' in 0.22. Specify a solver to silence this warning.\n",
      "  FutureWarning)\n",
      "E:\\Data Science\\Anaconda\\lib\\site-packages\\sklearn\\linear_model\\logistic.py:433: FutureWarning: Default solver will be changed to 'lbfgs' in 0.22. Specify a solver to silence this warning.\n",
      "  FutureWarning)\n",
      "E:\\Data Science\\Anaconda\\lib\\site-packages\\sklearn\\linear_model\\logistic.py:433: FutureWarning: Default solver will be changed to 'lbfgs' in 0.22. Specify a solver to silence this warning.\n",
      "  FutureWarning)\n",
      "E:\\Data Science\\Anaconda\\lib\\site-packages\\sklearn\\linear_model\\logistic.py:433: FutureWarning: Default solver will be changed to 'lbfgs' in 0.22. Specify a solver to silence this warning.\n",
      "  FutureWarning)\n",
      "E:\\Data Science\\Anaconda\\lib\\site-packages\\sklearn\\linear_model\\logistic.py:433: FutureWarning: Default solver will be changed to 'lbfgs' in 0.22. Specify a solver to silence this warning.\n",
      "  FutureWarning)\n",
      "E:\\Data Science\\Anaconda\\lib\\site-packages\\sklearn\\linear_model\\logistic.py:433: FutureWarning: Default solver will be changed to 'lbfgs' in 0.22. Specify a solver to silence this warning.\n",
      "  FutureWarning)\n",
      "E:\\Data Science\\Anaconda\\lib\\site-packages\\sklearn\\linear_model\\logistic.py:433: FutureWarning: Default solver will be changed to 'lbfgs' in 0.22. Specify a solver to silence this warning.\n",
      "  FutureWarning)\n",
      "E:\\Data Science\\Anaconda\\lib\\site-packages\\sklearn\\linear_model\\logistic.py:433: FutureWarning: Default solver will be changed to 'lbfgs' in 0.22. Specify a solver to silence this warning.\n",
      "  FutureWarning)\n",
      "E:\\Data Science\\Anaconda\\lib\\site-packages\\sklearn\\linear_model\\logistic.py:433: FutureWarning: Default solver will be changed to 'lbfgs' in 0.22. Specify a solver to silence this warning.\n",
      "  FutureWarning)\n",
      "E:\\Data Science\\Anaconda\\lib\\site-packages\\sklearn\\linear_model\\logistic.py:433: FutureWarning: Default solver will be changed to 'lbfgs' in 0.22. Specify a solver to silence this warning.\n",
      "  FutureWarning)\n",
      "E:\\Data Science\\Anaconda\\lib\\site-packages\\sklearn\\linear_model\\logistic.py:433: FutureWarning: Default solver will be changed to 'lbfgs' in 0.22. Specify a solver to silence this warning.\n",
      "  FutureWarning)\n",
      "E:\\Data Science\\Anaconda\\lib\\site-packages\\sklearn\\linear_model\\logistic.py:433: FutureWarning: Default solver will be changed to 'lbfgs' in 0.22. Specify a solver to silence this warning.\n",
      "  FutureWarning)\n",
      "E:\\Data Science\\Anaconda\\lib\\site-packages\\sklearn\\linear_model\\logistic.py:433: FutureWarning: Default solver will be changed to 'lbfgs' in 0.22. Specify a solver to silence this warning.\n",
      "  FutureWarning)\n",
      "E:\\Data Science\\Anaconda\\lib\\site-packages\\sklearn\\linear_model\\logistic.py:433: FutureWarning: Default solver will be changed to 'lbfgs' in 0.22. Specify a solver to silence this warning.\n",
      "  FutureWarning)\n",
      "E:\\Data Science\\Anaconda\\lib\\site-packages\\sklearn\\linear_model\\logistic.py:433: FutureWarning: Default solver will be changed to 'lbfgs' in 0.22. Specify a solver to silence this warning.\n",
      "  FutureWarning)\n",
      "E:\\Data Science\\Anaconda\\lib\\site-packages\\sklearn\\linear_model\\logistic.py:433: FutureWarning: Default solver will be changed to 'lbfgs' in 0.22. Specify a solver to silence this warning.\n",
      "  FutureWarning)\n",
      "E:\\Data Science\\Anaconda\\lib\\site-packages\\sklearn\\linear_model\\logistic.py:433: FutureWarning: Default solver will be changed to 'lbfgs' in 0.22. Specify a solver to silence this warning.\n",
      "  FutureWarning)\n"
     ]
    },
    {
     "data": {
      "text/plain": [
       "{'classifier__C': 0.01,\n",
       " 'vectorizer': CountVectorizer(analyzer='word', binary=False, decode_error='strict',\n",
       "         dtype=<class 'numpy.int64'>, encoding='utf-8', input='content',\n",
       "         lowercase=True, max_df=1.0, max_features=None, min_df=1,\n",
       "         ngram_range=(1, 1), preprocessor=None, stop_words=None,\n",
       "         strip_accents=None, token_pattern='(?u)\\\\b\\\\w\\\\w+\\\\b',\n",
       "         tokenizer=None, vocabulary=None)}"
      ]
     },
     "execution_count": 14,
     "metadata": {},
     "output_type": "execute_result"
    }
   ],
   "source": [
    "pipe_1 = Pipeline([\n",
    "    ('vectorizer', CountVectorizer()), \n",
    "    (\"pca\", TruncatedSVD(n_components=12)),\n",
    "    ('classifier', LogisticRegression(C=1))\n",
    "])\n",
    "\n",
    "param_grid_1 = {\n",
    "            'vectorizer': [TfidfVectorizer(), \n",
    "                           CountVectorizer()],   \n",
    "            'classifier__C': [0.001, 0.01, 0.1, 1, 10, 100]\n",
    "}\n",
    "\n",
    "kfold = StratifiedKFold(n_splits=5)\n",
    "\n",
    "grid_1 = GridSearchCV(pipe_1, param_grid_1, cv=kfold, return_train_score=True)\n",
    "\n",
    "grid_1.fit(X_train, y_train)\n",
    "grid_1.best_params_"
   ]
  },
  {
   "cell_type": "markdown",
   "metadata": {},
   "source": [
    "**Model Drzewo Decyzyjne**"
   ]
  },
  {
   "cell_type": "code",
   "execution_count": 15,
   "metadata": {},
   "outputs": [
    {
     "data": {
      "text/plain": [
       "{'classifier__max_depth': 5,\n",
       " 'classifier__max_leaf_nodes': 15,\n",
       " 'classifier__min_samples_split': 5,\n",
       " 'vectorizer': CountVectorizer(analyzer='word', binary=False, decode_error='strict',\n",
       "         dtype=<class 'numpy.int64'>, encoding='utf-8', input='content',\n",
       "         lowercase=True, max_df=1.0, max_features=None, min_df=1,\n",
       "         ngram_range=(1, 1), preprocessor=None, stop_words=None,\n",
       "         strip_accents=None, token_pattern='(?u)\\\\b\\\\w\\\\w+\\\\b',\n",
       "         tokenizer=None, vocabulary=None)}"
      ]
     },
     "execution_count": 15,
     "metadata": {},
     "output_type": "execute_result"
    }
   ],
   "source": [
    "pipe_2 = Pipeline([\n",
    "    ('vectorizer', CountVectorizer()),\n",
    "    ('pca', TruncatedSVD(n_components=12)),\n",
    "    ('classifier', DecisionTreeClassifier())\n",
    "])\n",
    "\n",
    "param_grid_2 = {\n",
    "            'vectorizer': [TfidfVectorizer(), \n",
    "                           CountVectorizer()],    \n",
    "            'classifier__max_depth': [5,10,30],\n",
    "            'classifier__min_samples_split': [2,5,10,50],\n",
    "            'classifier__max_leaf_nodes': [3,10,15,20,50]\n",
    "}\n",
    "\n",
    "kfold = StratifiedKFold(n_splits=5)\n",
    "\n",
    "grid_2 = GridSearchCV(pipe_2, param_grid_2, cv=kfold, return_train_score=True)\n",
    "\n",
    "grid_2.fit(X_train, y_train)\n",
    "grid_2.best_params_"
   ]
  },
  {
   "cell_type": "markdown",
   "metadata": {},
   "source": [
    "**Model SVC**"
   ]
  },
  {
   "cell_type": "code",
   "execution_count": 16,
   "metadata": {},
   "outputs": [
    {
     "data": {
      "text/plain": [
       "{'classifier__C': 100,\n",
       " 'classifier__gamma': 10,\n",
       " 'vectorizer': CountVectorizer(analyzer='word', binary=False, decode_error='strict',\n",
       "         dtype=<class 'numpy.int64'>, encoding='utf-8', input='content',\n",
       "         lowercase=True, max_df=1.0, max_features=None, min_df=1,\n",
       "         ngram_range=(1, 1), preprocessor=None, stop_words=None,\n",
       "         strip_accents=None, token_pattern='(?u)\\\\b\\\\w\\\\w+\\\\b',\n",
       "         tokenizer=None, vocabulary=None)}"
      ]
     },
     "execution_count": 16,
     "metadata": {},
     "output_type": "execute_result"
    }
   ],
   "source": [
    "pipe_3 = Pipeline([\n",
    "    ('vectorizer', CountVectorizer()), \n",
    "    ('pca', TruncatedSVD(n_components=12)),\n",
    "    ('classifier', SVC(C=1, probability=True))\n",
    "])\n",
    "\n",
    "param_grid_3 = {\n",
    "            'vectorizer': [TfidfVectorizer(), \n",
    "                           CountVectorizer()],\n",
    "            'classifier__C': [0.01, 0.1, 1, 10, 100,],\n",
    "            'classifier__gamma': [0.01, 0.1, 1, 10, 100]\n",
    "}\n",
    "\n",
    "kfold = StratifiedKFold(n_splits=5)\n",
    "\n",
    "grid_3 = GridSearchCV(pipe_3, param_grid_3, cv=kfold, return_train_score=True)\n",
    "\n",
    "grid_3.fit(X_train, y_train)\n",
    "grid_3.best_params_"
   ]
  },
  {
   "cell_type": "markdown",
   "metadata": {},
   "source": [
    "**Model Las Losowy**"
   ]
  },
  {
   "cell_type": "code",
   "execution_count": 17,
   "metadata": {},
   "outputs": [
    {
     "data": {
      "text/plain": [
       "{'classifier__max_depth': 10,\n",
       " 'classifier__max_leaf_nodes': 20,\n",
       " 'classifier__n_estimators': 100,\n",
       " 'vectorizer': TfidfVectorizer(analyzer='word', binary=False, decode_error='strict',\n",
       "         dtype=<class 'numpy.float64'>, encoding='utf-8', input='content',\n",
       "         lowercase=True, max_df=1.0, max_features=None, min_df=1,\n",
       "         ngram_range=(1, 1), norm='l2', preprocessor=None, smooth_idf=True,\n",
       "         stop_words=None, strip_accents=None, sublinear_tf=False,\n",
       "         token_pattern='(?u)\\\\b\\\\w\\\\w+\\\\b', tokenizer=None, use_idf=True,\n",
       "         vocabulary=None)}"
      ]
     },
     "execution_count": 17,
     "metadata": {},
     "output_type": "execute_result"
    }
   ],
   "source": [
    "pipe_4 = Pipeline([('vectorizer', CountVectorizer()),\n",
    "                   (\"pca\", TruncatedSVD(n_components=12)),\n",
    "                   ('classifier', RandomForestClassifier(max_leaf_nodes=16))\n",
    "                  ])\n",
    "\n",
    "param_grid_4 = {\n",
    "            'vectorizer': [TfidfVectorizer(), \n",
    "                           CountVectorizer()],    \n",
    "            'classifier__n_estimators': [10, 50, 100],\n",
    "            'classifier__max_leaf_nodes': [10, 20],\n",
    "            'classifier__max_depth': [10, 20]\n",
    "             }\n",
    "\n",
    "kfold = StratifiedKFold(n_splits=5)\n",
    "\n",
    "grid_4 = GridSearchCV(pipe_4, param_grid_4, cv=kfold, return_train_score=True)\n",
    "\n",
    "grid_4.fit(X_train, y_train)\n",
    "grid_4.best_params_"
   ]
  },
  {
   "cell_type": "code",
   "execution_count": 18,
   "metadata": {},
   "outputs": [
    {
     "name": "stdout",
     "output_type": "stream",
     "text": [
      "Regresja logistyczna\n",
      "Precyzja: 0.6826008389324029\n",
      "Czułość: 0.6381818181818182\n",
      "Miara F1 - średnia harmoniczna z precyzji i czułości: 0.620327753809639\n",
      "Dokładność: 0.6381818181818182\n",
      "\n",
      "\n",
      "Drzewo decyzyjne\n",
      "Precyzja: 0.588442233908546\n",
      "Czułość: 0.5872727272727273\n",
      "Miara F1 - średnia harmoniczna z precyzji i czułości: 0.5872959219399374\n",
      "Dokładność: 0.5872727272727273\n",
      "\n",
      "\n",
      "SVM\n",
      "Precyzja: 0.6558261496352142\n",
      "Czułość: 0.6509090909090909\n",
      "Miara F1 - średnia harmoniczna z precyzji i czułości: 0.6498919262555626\n",
      "Dokładność: 0.6509090909090909\n",
      "\n",
      "\n",
      "Las Losowy\n",
      "Precyzja: 0.6738685314685314\n",
      "Czułość: 0.6636363636363637\n",
      "Miara F1 - średnia harmoniczna z precyzji i czułości: 0.6609315356954302\n",
      "Dokładność: 0.6636363636363637\n",
      "\n",
      "\n"
     ]
    }
   ],
   "source": [
    "models = []\n",
    "models.append(('Regresja logistyczna', grid_1.best_estimator_))\n",
    "models.append(('Drzewo decyzyjne', grid_2.best_estimator_))\n",
    "models.append(('SVM', grid_3.best_estimator_))\n",
    "models.append(('Las Losowy', grid_4.best_estimator_))\n",
    "\n",
    "precision_score = []\n",
    "recall_score = []\n",
    "f1_score = []\n",
    "accuracy_score = []\n",
    "roc_auc_score = []\n",
    "for name, model in models:\n",
    "    print(name)\n",
    "    print(\"Precyzja: {}\".format(metrics.precision_score(y_test , model.predict(X_test), average='weighted') ))\n",
    "    print(\"Czułość: {}\".format( metrics.recall_score(y_test , model.predict(X_test), average='weighted') ))\n",
    "    print(\"Miara F1 - średnia harmoniczna z precyzji i czułości: {}\".format( metrics.f1_score(y_test , model.predict(X_test), average='weighted') ))\n",
    "    print(\"Dokładność: {}\".format( metrics.accuracy_score(y_test , model.predict(X_test)) ))\n",
    "    print('\\n')\n",
    "    \n",
    "\n",
    "    precision_score.append(metrics.precision_score(y_test , model.predict(X_test), average='weighted') )\n",
    "    recall_score.append(metrics.recall_score(y_test , model.predict(X_test), average='weighted') )\n",
    "    f1_score.append( metrics.f1_score(y_test , model.predict(X_test), average='weighted') )\n",
    "    accuracy_score.append(metrics.accuracy_score(y_test , model.predict(X_test)))\n"
   ]
  },
  {
   "cell_type": "code",
   "execution_count": 19,
   "metadata": {},
   "outputs": [
    {
     "data": {
      "text/html": [
       "<div>\n",
       "<style scoped>\n",
       "    .dataframe tbody tr th:only-of-type {\n",
       "        vertical-align: middle;\n",
       "    }\n",
       "\n",
       "    .dataframe tbody tr th {\n",
       "        vertical-align: top;\n",
       "    }\n",
       "\n",
       "    .dataframe thead th {\n",
       "        text-align: right;\n",
       "    }\n",
       "</style>\n",
       "<table border=\"1\" class=\"dataframe\">\n",
       "  <thead>\n",
       "    <tr style=\"text-align: right;\">\n",
       "      <th></th>\n",
       "      <th>Model</th>\n",
       "      <th>Dokładność</th>\n",
       "    </tr>\n",
       "  </thead>\n",
       "  <tbody>\n",
       "    <tr>\n",
       "      <th>0</th>\n",
       "      <td>Regresja logistyczna</td>\n",
       "      <td>0.638182</td>\n",
       "    </tr>\n",
       "    <tr>\n",
       "      <th>1</th>\n",
       "      <td>Drzewo decyzyjne</td>\n",
       "      <td>0.587273</td>\n",
       "    </tr>\n",
       "    <tr>\n",
       "      <th>2</th>\n",
       "      <td>SVM</td>\n",
       "      <td>0.650909</td>\n",
       "    </tr>\n",
       "    <tr>\n",
       "      <th>3</th>\n",
       "      <td>Las Losowy</td>\n",
       "      <td>0.663636</td>\n",
       "    </tr>\n",
       "  </tbody>\n",
       "</table>\n",
       "</div>"
      ],
      "text/plain": [
       "                  Model  Dokładność\n",
       "0  Regresja logistyczna    0.638182\n",
       "1      Drzewo decyzyjne    0.587273\n",
       "2                   SVM    0.650909\n",
       "3            Las Losowy    0.663636"
      ]
     },
     "execution_count": 19,
     "metadata": {},
     "output_type": "execute_result"
    }
   ],
   "source": [
    "wyniki = pd.DataFrame({'Model': ['Regresja logistyczna', 'Drzewo decyzyjne', 'SVM', 'Las Losowy'],\n",
    "                                   'Dokładność': [accuracy_score[0],\n",
    "                                                  accuracy_score[1],\n",
    "                                                  accuracy_score[2],\n",
    "                                                  accuracy_score[3]]})\n",
    "wyniki"
   ]
  },
  {
   "cell_type": "markdown",
   "metadata": {},
   "source": [
    "Przed wykorzystaniem danych w modelach klasyfikacji, te zostały wcześniej wyczyszczone. W tym procesie wykonano: <br />\n",
    "- podział tweetów na słowa,\n",
    "- zamieniono wszystkie cyfry występujące w widomościach na słowo 'NUMBER',\n",
    "- zmieniono wsztstkie znaki na nałe litery,\n",
    "- lematyzację,\n",
    "- usunięto interpunkcję,\n",
    "- usunięto najczęśniej uzywane słowa (stopwords),\n",
    "- zamieniono ciąg znaków \"n't\" na słowo \"negation\"<br /><br />\n",
    "\n",
    "Wszystkie modele dały zbliżone wyniki. Najlepiej z problemem klasyfikacji poradził sobie Las Losowy. Wynik 66% pokazuje jednak, że klasyfikacja nie jest problemem trywialnym."
   ]
  },
  {
   "cell_type": "code",
   "execution_count": null,
   "metadata": {},
   "outputs": [],
   "source": []
  }
 ],
 "metadata": {
  "kernelspec": {
   "display_name": "Python 3",
   "language": "python",
   "name": "python3"
  },
  "language_info": {
   "codemirror_mode": {
    "name": "ipython",
    "version": 3
   },
   "file_extension": ".py",
   "mimetype": "text/x-python",
   "name": "python",
   "nbconvert_exporter": "python",
   "pygments_lexer": "ipython3",
   "version": "3.7.1"
  }
 },
 "nbformat": 4,
 "nbformat_minor": 2
}
