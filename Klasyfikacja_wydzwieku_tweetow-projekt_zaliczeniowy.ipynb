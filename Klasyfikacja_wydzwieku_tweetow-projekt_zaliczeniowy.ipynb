{
 "cells": [
  {
   "cell_type": "markdown",
   "metadata": {},
   "source": [
    "# Klasyfikacja wydzwięku twetów"
   ]
  },
  {
   "cell_type": "markdown",
   "metadata": {},
   "source": [
    "Celem poniższego projektu jest próba przewidzenia sentymentu (pozytywnego / negatywnwgo) zawartego w wiadomościach udostępnianych w serwisie Tweeter.\n",
    "<br />\n",
    "<br />\n",
    "W pierwszym kroku importowane są wszystkie bibkioteki wykorzystywane w projekcie"
   ]
  },
  {
   "cell_type": "code",
   "execution_count": 1,
   "metadata": {},
   "outputs": [],
   "source": [
    "import pandas as pd\n",
    "import nltk\n",
    "import string\n",
    "import random\n",
    "import matplotlib.pyplot as plt\n",
    "%matplotlib inline\n",
    "\n",
    "from collections import Counter\n",
    "from nltk.stem import WordNetLemmatizer\n",
    "from nltk.tokenize import word_tokenize\n",
    "from nltk.corpus import stopwords\n",
    "\n",
    "from sklearn.feature_extraction.text import CountVectorizer, TfidfVectorizer\n",
    "from sklearn import metrics\n",
    "from sklearn.decomposition import TruncatedSVD\n",
    "from sklearn.model_selection import train_test_split, StratifiedKFold\n",
    "from sklearn.tree import DecisionTreeClassifier\n",
    "from sklearn.pipeline import Pipeline, make_pipeline\n",
    "from sklearn.model_selection import GridSearchCV\n",
    "from sklearn.linear_model import LogisticRegression\n",
    "from sklearn.ensemble import RandomForestClassifier\n",
    "from sklearn.svm import SVC"
   ]
  },
  {
   "cell_type": "markdown",
   "metadata": {},
   "source": [
    "Pobieranie danych. <br />\n",
    "Połaczenie 3 zbiorów w jeden obiekt DataFrame"
   ]
  },
  {
   "cell_type": "code",
   "execution_count": 2,
   "metadata": {},
   "outputs": [
    {
     "data": {
      "text/html": [
       "<div>\n",
       "<style scoped>\n",
       "    .dataframe tbody tr th:only-of-type {\n",
       "        vertical-align: middle;\n",
       "    }\n",
       "\n",
       "    .dataframe tbody tr th {\n",
       "        vertical-align: top;\n",
       "    }\n",
       "\n",
       "    .dataframe thead th {\n",
       "        text-align: right;\n",
       "    }\n",
       "</style>\n",
       "<table border=\"1\" class=\"dataframe\">\n",
       "  <thead>\n",
       "    <tr style=\"text-align: right;\">\n",
       "      <th></th>\n",
       "      <th>index</th>\n",
       "      <th>Tresc</th>\n",
       "      <th>Klasyfikacja</th>\n",
       "    </tr>\n",
       "  </thead>\n",
       "  <tbody>\n",
       "    <tr>\n",
       "      <th>0</th>\n",
       "      <td>0</td>\n",
       "      <td>So there is no way for me to plug it in here i...</td>\n",
       "      <td>0</td>\n",
       "    </tr>\n",
       "    <tr>\n",
       "      <th>1</th>\n",
       "      <td>1</td>\n",
       "      <td>Good case, Excellent value.</td>\n",
       "      <td>1</td>\n",
       "    </tr>\n",
       "    <tr>\n",
       "      <th>2</th>\n",
       "      <td>2</td>\n",
       "      <td>Great for the jawbone.</td>\n",
       "      <td>1</td>\n",
       "    </tr>\n",
       "    <tr>\n",
       "      <th>3</th>\n",
       "      <td>3</td>\n",
       "      <td>Tied to charger for conversations lasting more...</td>\n",
       "      <td>0</td>\n",
       "    </tr>\n",
       "    <tr>\n",
       "      <th>4</th>\n",
       "      <td>4</td>\n",
       "      <td>The mic is great.</td>\n",
       "      <td>1</td>\n",
       "    </tr>\n",
       "  </tbody>\n",
       "</table>\n",
       "</div>"
      ],
      "text/plain": [
       "   index                                              Tresc  Klasyfikacja\n",
       "0      0  So there is no way for me to plug it in here i...             0\n",
       "1      1                        Good case, Excellent value.             1\n",
       "2      2                             Great for the jawbone.             1\n",
       "3      3  Tied to charger for conversations lasting more...             0\n",
       "4      4                                  The mic is great.             1"
      ]
     },
     "execution_count": 2,
     "metadata": {},
     "output_type": "execute_result"
    }
   ],
   "source": [
    "nazwy_kolumn = [\"Tresc\", \"Klasyfikacja\"]\n",
    "tweet_set1 = pd.read_table(\"./zrodlo/amazon_cells_labelled.txt\", delimiter=\"\\t\", header=None, names=nazwy_kolumn, encoding=\"utf-8\")\n",
    "tweet_set2 = pd.read_table(\"./zrodlo/imdb_labelled.txt\", delimiter=\"\\t\", header=None, names=nazwy_kolumn, encoding=\"utf-8\")\n",
    "tweet_set3 = pd.read_table(\"./zrodlo/yelp_labelled.txt\", delimiter=\"\\t\", header=None, names=nazwy_kolumn, encoding=\"utf-8\")\n",
    "\n",
    "df_tweet = tweet_set1.append(tweet_set2).append(tweet_set3)\n",
    "df_tweet.reset_index(inplace=True)\n",
    "\n",
    "df_tweet.head()"
   ]
  },
  {
   "cell_type": "markdown",
   "metadata": {},
   "source": [
    "Usunięcie indexu"
   ]
  },
  {
   "cell_type": "code",
   "execution_count": 3,
   "metadata": {},
   "outputs": [
    {
     "data": {
      "text/html": [
       "<div>\n",
       "<style scoped>\n",
       "    .dataframe tbody tr th:only-of-type {\n",
       "        vertical-align: middle;\n",
       "    }\n",
       "\n",
       "    .dataframe tbody tr th {\n",
       "        vertical-align: top;\n",
       "    }\n",
       "\n",
       "    .dataframe thead th {\n",
       "        text-align: right;\n",
       "    }\n",
       "</style>\n",
       "<table border=\"1\" class=\"dataframe\">\n",
       "  <thead>\n",
       "    <tr style=\"text-align: right;\">\n",
       "      <th></th>\n",
       "      <th>Tresc</th>\n",
       "      <th>Klasyfikacja</th>\n",
       "    </tr>\n",
       "  </thead>\n",
       "  <tbody>\n",
       "    <tr>\n",
       "      <th>0</th>\n",
       "      <td>So there is no way for me to plug it in here i...</td>\n",
       "      <td>0</td>\n",
       "    </tr>\n",
       "    <tr>\n",
       "      <th>1</th>\n",
       "      <td>Good case, Excellent value.</td>\n",
       "      <td>1</td>\n",
       "    </tr>\n",
       "    <tr>\n",
       "      <th>2</th>\n",
       "      <td>Great for the jawbone.</td>\n",
       "      <td>1</td>\n",
       "    </tr>\n",
       "  </tbody>\n",
       "</table>\n",
       "</div>"
      ],
      "text/plain": [
       "                                               Tresc  Klasyfikacja\n",
       "0  So there is no way for me to plug it in here i...             0\n",
       "1                        Good case, Excellent value.             1\n",
       "2                             Great for the jawbone.             1"
      ]
     },
     "execution_count": 3,
     "metadata": {},
     "output_type": "execute_result"
    }
   ],
   "source": [
    "df_tweet = df_tweet.drop(['index'], axis=1)\n",
    "df_tweet.head(3)"
   ]
  },
  {
   "cell_type": "markdown",
   "metadata": {},
   "source": [
    "Porównanie ilości tweetów pozytywnych vs negatywnych"
   ]
  },
  {
   "cell_type": "code",
   "execution_count": 4,
   "metadata": {},
   "outputs": [
    {
     "name": "stdout",
     "output_type": "stream",
     "text": [
      "         Ilośc tweetów pozytywnych:  1386\n",
      "         Ilośc tweetów negatwynych:  1362\n",
      " Ilośc wszystkich badanych tweetów:  2748\n"
     ]
    }
   ],
   "source": [
    "pozytywne_filtr = df_tweet['Klasyfikacja'] == 1\n",
    "pozytywne = df_tweet[pozytywne_filtr]\n",
    "\n",
    "negatywne_filtr = df_tweet['Klasyfikacja'] == 0\n",
    "negatywne = df_tweet[negatywne_filtr]\n",
    "\n",
    "print('%35s %5d' %('Ilośc tweetów pozytywnych:', len(pozytywne)))\n",
    "print('%35s %5d' %('Ilośc tweetów negatwynych:', len(negatywne)))\n",
    "print('%35s %5d' %('Ilośc wszystkich badanych tweetów:', df_tweet.shape[0]))"
   ]
  },
  {
   "cell_type": "markdown",
   "metadata": {},
   "source": [
    "20 najczęściej używanych słów w całym zbiorze danych"
   ]
  },
  {
   "cell_type": "code",
   "execution_count": 5,
   "metadata": {
    "scrolled": true
   },
   "outputs": [
    {
     "name": "stdout",
     "output_type": "stream",
     "text": [
      "   Wszystkich słów w zbiorze danych jest: 372429\n",
      "   Unikalnych słów w zbiorze danych jest: 81039\n",
      "\n",
      "\n",
      "20 najczęściej występujących słów to:\n",
      " [('', 1752), ('the', 1473), ('and', 1095), ('a', 846), ('I', 825), ('is', 730), ('to', 652), ('of', 608), ('was', 557), ('this', 442), ('The', 415), ('it', 396), ('in', 373), ('for', 315), ('that', 275), ('with', 263), ('not', 256), ('my', 212), ('on', 203), ('very', 194)]\n"
     ]
    },
    {
     "data": {
      "image/png": "[encoded data removed]",
      "text/plain": [
       "<Figure size 1008x432 with 1 Axes>"
      ]
     },
     "metadata": {
      "needs_background": "light"
     },
     "output_type": "display_data"
    }
   ],
   "source": [
    "wszystkie_slowa = []\n",
    "for wiersz in df_tweet[\"Tresc\"]:\n",
    "    for slowo in wiersz.split(' '):\n",
    "        wszystkie_slowa.append(slowo)\n",
    "    \n",
    "print('%41s %d9' %('Wszystkich słów w zbiorze danych jest:', len(wszystkie_slowa)))\n",
    "print('%41s %d9' %('Unikalnych słów w zbiorze danych jest:', len(set(wszystkie_slowa))))\n",
    "print(\"\\n\")\n",
    "print(\"20 najczęściej występujących słów to:\\n\",Counter(wszystkie_slowa).most_common(20))\n",
    "\n",
    "plt.figure(figsize=(14,6))\n",
    "plt.title('20 najcześciej używanych słów w zbiorze danych')\n",
    "plt.xticks(fontsize=11, rotation=90)\n",
    "fd = nltk.FreqDist(wszystkie_slowa)\n",
    "fd.plot(20)"
   ]
  },
  {
   "cell_type": "markdown",
   "metadata": {},
   "source": [
    "Funkcje wykorzystywane do czyszczenia wiadomości"
   ]
  },
  {
   "cell_type": "code",
   "execution_count": 6,
   "metadata": {},
   "outputs": [
    {
     "data": {
      "text/html": [
       "<div>\n",
       "<style scoped>\n",
       "    .dataframe tbody tr th:only-of-type {\n",
       "        vertical-align: middle;\n",
       "    }\n",
       "\n",
       "    .dataframe tbody tr th {\n",
       "        vertical-align: top;\n",
       "    }\n",
       "\n",
       "    .dataframe thead th {\n",
       "        text-align: right;\n",
       "    }\n",
       "</style>\n",
       "<table border=\"1\" class=\"dataframe\">\n",
       "  <thead>\n",
       "    <tr style=\"text-align: right;\">\n",
       "      <th></th>\n",
       "      <th>Tresc</th>\n",
       "      <th>Klasyfikacja</th>\n",
       "    </tr>\n",
       "  </thead>\n",
       "  <tbody>\n",
       "    <tr>\n",
       "      <th>0</th>\n",
       "      <td>So there is no way for me to plug it in here i...</td>\n",
       "      <td>0</td>\n",
       "    </tr>\n",
       "    <tr>\n",
       "      <th>1</th>\n",
       "      <td>Good case, Excellent value.</td>\n",
       "      <td>1</td>\n",
       "    </tr>\n",
       "    <tr>\n",
       "      <th>2</th>\n",
       "      <td>Great for the jawbone.</td>\n",
       "      <td>1</td>\n",
       "    </tr>\n",
       "    <tr>\n",
       "      <th>3</th>\n",
       "      <td>Tied to charger for conversations lasting more...</td>\n",
       "      <td>0</td>\n",
       "    </tr>\n",
       "    <tr>\n",
       "      <th>4</th>\n",
       "      <td>The mic is great.</td>\n",
       "      <td>1</td>\n",
       "    </tr>\n",
       "    <tr>\n",
       "      <th>5</th>\n",
       "      <td>I have to jiggle the plug to get it to line up...</td>\n",
       "      <td>0</td>\n",
       "    </tr>\n",
       "    <tr>\n",
       "      <th>6</th>\n",
       "      <td>If you have several dozen or several hundred c...</td>\n",
       "      <td>0</td>\n",
       "    </tr>\n",
       "  </tbody>\n",
       "</table>\n",
       "</div>"
      ],
      "text/plain": [
       "                                               Tresc  Klasyfikacja\n",
       "0  So there is no way for me to plug it in here i...             0\n",
       "1                        Good case, Excellent value.             1\n",
       "2                             Great for the jawbone.             1\n",
       "3  Tied to charger for conversations lasting more...             0\n",
       "4                                  The mic is great.             1\n",
       "5  I have to jiggle the plug to get it to line up...             0\n",
       "6  If you have several dozen or several hundred c...             0"
      ]
     },
     "execution_count": 6,
     "metadata": {},
     "output_type": "execute_result"
    }
   ],
   "source": [
    "def podzial_na_slowa(tweet):\n",
    "    return word_tokenize(tweet)\n",
    "\n",
    "def zamiana_cyfr_na_str(tweet):\n",
    "    tweet = [slowo if not slowo.isdigit() else \"<NUMBER>\" for slowo in tweet]\n",
    "    tweet = ''.join(tweet)\n",
    "    return tweet\n",
    "\n",
    "def zamiana_na_male_znaki(tweet):\n",
    "    tweet = [slowo.lower() for slowo in tweet]\n",
    "    tweet = ''.join(tweet)\n",
    "    return tweet\n",
    "\n",
    "def lematyzacja(tweet):\n",
    "    wordnet_lemmatizer = WordNetLemmatizer()\n",
    "    tweet = [wordnet_lemmatizer.lemmatize(slowo) for slowo in tweet]\n",
    "    tweet = ''.join(tweet)\n",
    "    return tweet\n",
    "\n",
    "def usuniecie_interpunkcji(tweet):\n",
    "    tweet = [znak if not znak in string.punctuation else \" \" for znak in tweet]\n",
    "    tweet = ''.join(tweet)\n",
    "    return tweet\n",
    "\n",
    "def usuniecie_stopwords(tweet):\n",
    "    tweet = [slowo for slowo in tweet.split(' ') if slowo not in stopwords.words('english')]\n",
    "    tweet = ' '.join(tweet)\n",
    "    return tweet\n",
    "\n",
    "def negacja(tweet):\n",
    "    tweet = [slowo if \"n't\" else \"<NEGATION>\" for slowo in tweet]\n",
    "    return tweet\n",
    "\n",
    "def usuniecie_duplikatow(tweet):\n",
    "    tweet = tweet.replace(\"    \",\"\").replace(\"   \",\"\").replace(\"  \",\" \").strip()\n",
    "    tweet = tweet.replace(\"<NUMBER><NUMBER>\", \"\").strip()\n",
    "    return tweet\n",
    "\n",
    "def tokenizacja(tweet):\n",
    "    tweet = usuniecie_interpunkcji(tweet)    \n",
    "    tweet = zamiana_na_male_znaki(tweet)\n",
    "    tweet = negacja(tweet)    \n",
    "    tweet = zamiana_cyfr_na_str(tweet)\n",
    "    tweet = lematyzacja(tweet) \n",
    "    tweet = usuniecie_stopwords(tweet)\n",
    "    tweet = usuniecie_duplikatow(tweet)    \n",
    "    return tweet\n",
    "\n",
    "df_tweet.head(7)"
   ]
  },
  {
   "cell_type": "markdown",
   "metadata": {},
   "source": [
    "Wykonanie powyższych funkcji na zbiorze danych"
   ]
  },
  {
   "cell_type": "code",
   "execution_count": 7,
   "metadata": {},
   "outputs": [],
   "source": [
    "df_tweet[\"Tresc_wyczyszczona\"] = df_tweet[\"Tresc\"].apply(tokenizacja)"
   ]
  },
  {
   "cell_type": "markdown",
   "metadata": {},
   "source": [
    "Porównanie losowego tweeta przed i po czyszczeniu"
   ]
  },
  {
   "cell_type": "code",
   "execution_count": 8,
   "metadata": {},
   "outputs": [
    {
     "name": "stdout",
     "output_type": "stream",
     "text": [
      "Tweet przed czyszczeniem:\n",
      "But I thought his acting was skilled.  \n",
      "\n",
      "\n",
      "Tweet po czyszczeniu:\n",
      "thought acting skilled\n"
     ]
    }
   ],
   "source": [
    "maximum = len(df_tweet) - 1\n",
    "a = random.randint(0, maximum)\n",
    "\n",
    "print(\"Tweet przed czyszczeniem:\")\n",
    "print(df_tweet['Tresc'][a])\n",
    "print('\\n')\n",
    "print(\"Tweet po czyszczeniu:\")\n",
    "print(df_tweet['Tresc_wyczyszczona'][a])"
   ]
  },
  {
   "cell_type": "markdown",
   "metadata": {},
   "source": [
    "20 najczęściej używanych słów po przeprocesowaniu wiadomości (tweetów)"
   ]
  },
  {
   "cell_type": "code",
   "execution_count": 9,
   "metadata": {},
   "outputs": [
    {
     "name": "stdout",
     "output_type": "stream",
     "text": [
      "Po wyczyszczeniu zbioru wszystkich słów zostało: 179879\n",
      "Po wyczyszczeniu zbioru unikalnych slow zostało: 53239\n",
      "\n",
      "\n",
      "15 najczęściej występujących słów to:\n",
      " [('good', 220), ('great', 202), ('movie', 170), ('phone', 165), ('film', 151), ('one', 139), ('<NUMBER>', 130), ('food', 122), ('like', 121), ('place', 114), ('time', 106), ('service', 106), ('really', 102), ('', 93), ('bad', 89), ('would', 85), ('well', 85), ('best', 78), ('even', 75), ('back', 73)]\n"
     ]
    },
    {
     "data": {
      "image/png": "[encoded data removed]",
      "text/plain": [
       "<Figure size 1008x432 with 1 Axes>"
      ]
     },
     "metadata": {
      "needs_background": "light"
     },
     "output_type": "display_data"
    }
   ],
   "source": [
    "wszystkie_slowa = []\n",
    "for wiersz in df_tweet[\"Tresc_wyczyszczona\"]:\n",
    "    for slowo in wiersz.split(' '):\n",
    "        wszystkie_slowa.append(slowo)\n",
    "    \n",
    "print('%44s %d9' %('Po wyczyszczeniu zbioru wszystkich słów zostało:', len(wszystkie_slowa)))\n",
    "print('%41s %d9' %('Po wyczyszczeniu zbioru unikalnych slow zostało:', len(set(wszystkie_slowa))))\n",
    "print(\"\\n\")\n",
    "print(\"15 najczęściej występujących słów to:\\n\",Counter(wszystkie_slowa).most_common(20))\n",
    "\n",
    "\n",
    "plt.figure(figsize=(14,6))\n",
    "plt.title('20 najcześciej używanych słów w zbiorze danych')\n",
    "plt.xticks(fontsize=11, rotation=90)\n",
    "fd = nltk.FreqDist(wszystkie_slowa)\n",
    "fd.plot(20)"
   ]
  },
  {
   "cell_type": "markdown",
   "metadata": {},
   "source": [
    "Reprezentacja dwustu pierwszych słów po wyczyszczeniu zbioru danych, z ich wagami:"
   ]
  },
  {
   "cell_type": "code",
   "execution_count": 10,
   "metadata": {},
   "outputs": [
    {
     "name": "stdout",
     "output_type": "stream",
     "text": [
      "{'way': 4965, 'plug': 3345, 'us': 4816, 'unless': 4775, 'go': 1936, 'converter': 948, 'good': 1948, 'case': 641, 'excellent': 1546, 'value': 4839, 'great': 1984, 'jawbone': 2403, 'tied': 4566, 'charger': 699, 'conversations': 947, 'lasting': 2522, 'minutes': 2855, 'major': 2717, 'problems': 3442, 'mic': 2833, 'jiggle': 2418, 'get': 1905, 'line': 2607, 'right': 3739, 'decent': 1109, 'volume': 4905, 'several': 3975, 'dozen': 1312, 'hundred': 2219, 'contacts': 922, 'imagine': 2254, 'fun': 1854, 'sending': 3938, 'one': 3080, 'razr': 3574, 'ownermust': 3150, 'needless': 2969, 'say': 3855, 'wasted': 4952, 'money': 2881, 'waste': 4951, 'time': 4570, 'sound': 4174, 'quality': 3531, 'impressed': 2265, 'going': 1942, 'original': 3107, 'battery': 342, 'extended': 1590, 'two': 4713, 'seperated': 3949, 'mere': 2818, 'number': 3033, 'ft': 1846, 'started': 4250, 'notice': 3028, 'excessive': 1552, 'static': 4256, 'garbled': 1876, 'headset': 2083, 'though': 4539, 'design': 1170, 'odd': 3053, 'ear': 1376, 'clip': 790, 'comfortable': 831, 'highly': 2132, 'recommend': 3610, 'blue': 441, 'tooth': 4613, 'phone': 3276, 'advise': 75, 'everyone': 1532, 'fooled': 1778, 'far': 1634, 'works': 5070, 'clicks': 785, 'place': 3309, 'makes': 2722, 'wonder': 5050, 'long': 2644, 'mechanism': 2789, 'would': 5082, 'last': 2520, 'went': 4996, 'motorola': 2904, 'website': 4978, 'followed': 1769, 'directions': 1226, 'could': 976, 'pair': 3171, 'bought': 485, 'use': 4820, 'kindle': 2480, 'fire': 1710, 'absolutely': 9, 'loved': 2672, 'commercials': 843, 'misleading': 2861, 'yet': 5114, 'run': 3797, 'new': 2988, 'bars': 327, 'three': 4545, 'days': 1093, 'without': 5043, 'charging': 702, 'mother': 2899, 'problem': 3441, 'pocket': 3351, 'pcphone': 3224, 'combination': 823, 'owned': 3148, 'months': 2889, 'best': 391, 'mobile': 2869, 'think': 4529, 'instructions': 2336, 'provided': 3485, 'helpful': 2110, 'people': 3243, 'couldnt': 977, 'hear': 2087, 'talk': 4449, 'pull': 3500, 'earphone': 1384, 'hold': 2150, 'charge': 697, 'simple': 4058, 'little': 2625, 'breakage': 499, 'unacceptible': 4724, 'product': 3453, 'ideal': 2234, 'like': 2597, 'whose': 5013, 'ears': 1388, 'sensitive': 3943, 'unusable': 4798, 'moving': 2919, 'car': 620, 'freeway': 1819, 'speed': 4202, 'years': 5106, 'left': 2559, 'contract': 935, 'hate': 2067, 'well': 4990, 'ac': 13, 'included': 2280, 'make': 2719, 'sure': 4400, 'never': 2985, 'juice': 2441, 'highy': 2133, 'recommended': 3612, 'need': 2967, 'least': 2552, 'mins': 2853, 'book': 465, 'first': 1713, 'turn': 4702, 'life': 2588, 'short': 4022, 'kept': 2461, 'poor': 3368, 'performance': 3251, 'fine': 1702, 'worthless': 5079, 'camera': 597, 'thats': 4511, 'mp': 2922, 'pics': 3289, 'nice': 2991, 'clear': 779, 'picture': 3290, 'priced': 3431, 'garbage': 1875, 'audio': 260, 'bluetooth': 444, 'features': 1654, 'want': 4930, 'mind': 2847, 'gonna': 1947, 'buy': 567, 'arguing': 205, 'verizon': 4864, 'regarding': 3632, 'dropped': 1351, 'calls': 594, 'returned': 3715, 'phones': 3279, 'seems': 3928, 'made': 2701, 'disappointed': 1237, 'loud': 2664, 'enough': 1480, 'protection': 3477, 'bulky': 547, 'usable': 4817}\n"
     ]
    }
   ],
   "source": [
    "vectorizer = TfidfVectorizer()\n",
    "vectorizer.fit(df_tweet['Tresc_wyczyszczona'])\n",
    "\n",
    "slownik = vectorizer.vocabulary_\n",
    "slownik = {i: slownik[i] for i in list(slownik)[:200]}\n",
    "print(slownik)"
   ]
  },
  {
   "cell_type": "markdown",
   "metadata": {},
   "source": [
    "Wiersze reprezentują wiadomości, a kolumny słowa"
   ]
  },
  {
   "cell_type": "code",
   "execution_count": 11,
   "metadata": {},
   "outputs": [
    {
     "name": "stdout",
     "output_type": "stream",
     "text": [
      "(2748, 5129)\n",
      "[[0. 0. 0. ... 0. 0. 0.]\n",
      " [0. 0. 0. ... 0. 0. 0.]\n",
      " [0. 0. 0. ... 0. 0. 0.]\n",
      " ...\n",
      " [0. 0. 0. ... 0. 0. 0.]\n",
      " [0. 0. 0. ... 0. 0. 0.]\n",
      " [0. 0. 0. ... 0. 0. 0.]]\n"
     ]
    }
   ],
   "source": [
    "tfidf_matrix = vectorizer.transform(df_tweet['Tresc_wyczyszczona']).todense()\n",
    "print(tfidf_matrix.shape)\n",
    "print(tfidf_matrix)"
   ]
  },
  {
   "cell_type": "markdown",
   "metadata": {},
   "source": [
    "Redukcja wymiaru"
   ]
  },
  {
   "cell_type": "code",
   "execution_count": 12,
   "metadata": {
    "scrolled": true
   },
   "outputs": [
    {
     "data": {
      "text/plain": [
       "array([[ 0.02779823,  0.02127648,  0.10926956, ...,  0.02195189,\n",
       "         0.01148998, -0.00846533],\n",
       "       [ 0.18039597,  0.29090122, -0.10869876, ...,  0.01995757,\n",
       "         0.02192695, -0.08921644],\n",
       "       [ 0.32235283, -0.22379958, -0.09408868, ...,  0.01706244,\n",
       "        -0.03133706,  0.02299789],\n",
       "       ...,\n",
       "       [ 0.0718412 ,  0.062112  ,  0.42685542, ..., -0.06147226,\n",
       "         0.06145986,  0.11763801],\n",
       "       [ 0.04397445,  0.04007493,  0.14577318, ..., -0.00873966,\n",
       "        -0.01257118, -0.03427735],\n",
       "       [ 0.02518191,  0.02766851,  0.03967528, ..., -0.01186615,\n",
       "        -0.01206529,  0.00225353]])"
      ]
     },
     "execution_count": 12,
     "metadata": {},
     "output_type": "execute_result"
    }
   ],
   "source": [
    "svd = TruncatedSVD(n_components=12) \n",
    "svd.fit(tfidf_matrix)\n",
    "\n",
    "docs_red = svd.transform(tfidf_matrix)\n",
    "docs_red"
   ]
  },
  {
   "cell_type": "markdown",
   "metadata": {},
   "source": [
    "Przygotowany zbiór danych dzielony jest na zbiór testowy i uczony. Proporcje podziału zaprezentowano na diagramie"
   ]
  },
  {
   "cell_type": "code",
   "execution_count": 13,
   "metadata": {},
   "outputs": [
    {
     "data": {
      "image/png": "[encoded data removed]",
      "text/plain": [
       "<Figure size 432x288 with 1 Axes>"
      ]
     },
     "metadata": {
      "needs_background": "light"
     },
     "output_type": "display_data"
    }
   ],
   "source": [
    "X_train, X_test, y_train, y_test = train_test_split(df_tweet['Tresc_wyczyszczona'], df_tweet['Klasyfikacja'], test_size=0.2)\n",
    "\n",
    "plt.hist(y_train, alpha=0.5)\n",
    "plt.hist(y_test, alpha=0.5)\n",
    "plt.show()"
   ]
  },
  {
   "cell_type": "markdown",
   "metadata": {},
   "source": [
    "Poniżej użyto 4 metod klasyfikacji do próby przewidzenia sentymentu wiadomości \"tweet\" w zbiorze danych"
   ]
  },
  {
   "cell_type": "markdown",
   "metadata": {},
   "source": [
    "**Model Regresja Liniowa**"
   ]
  },
  {
   "cell_type": "code",
   "execution_count": 14,
   "metadata": {},
   "outputs": [
    {
     "data": {
      "text/plain": [
       "{'classifier__C': 10,\n",
       " 'vectorizer': CountVectorizer(analyzer='word', binary=False, decode_error='strict',\n",
       "         dtype=<class 'numpy.int64'>, encoding='utf-8', input='content',\n",
       "         lowercase=True, max_df=1.0, max_features=None, min_df=1,\n",
       "         ngram_range=(1, 1), preprocessor=None, stop_words=None,\n",
       "         strip_accents=None, token_pattern='(?u)\\\\b\\\\w\\\\w+\\\\b',\n",
       "         tokenizer=None, vocabulary=None)}"
      ]
     },
     "execution_count": 14,
     "metadata": {},
     "output_type": "execute_result"
    }
   ],
   "source": [
    "pipe_1 = Pipeline([\n",
    "    ('vectorizer', CountVectorizer()), \n",
    "    (\"SVD\", TruncatedSVD(n_components=12)),\n",
    "    ('classifier', LogisticRegression(C=1, solver='lbfgs'))\n",
    "])\n",
    "\n",
    "param_grid_1 = {\n",
    "            'vectorizer': [TfidfVectorizer(), \n",
    "                           CountVectorizer()],   \n",
    "            'classifier__C': [0.001, 0.01, 0.1, 1, 10, 100]\n",
    "}\n",
    "\n",
    "kfold = StratifiedKFold(n_splits=5)\n",
    "\n",
    "grid_1 = GridSearchCV(pipe_1, param_grid_1, cv=kfold, return_train_score=True)\n",
    "\n",
    "grid_1.fit(X_train, y_train)\n",
    "grid_1.best_params_"
   ]
  },
  {
   "cell_type": "markdown",
   "metadata": {},
   "source": [
    "**Model Drzewo Decyzyjne**"
   ]
  },
  {
   "cell_type": "code",
   "execution_count": 15,
   "metadata": {},
   "outputs": [
    {
     "data": {
      "text/plain": [
       "{'classifier__max_depth': 30,\n",
       " 'classifier__max_leaf_nodes': 15,\n",
       " 'classifier__min_samples_split': 2,\n",
       " 'vectorizer': TfidfVectorizer(analyzer='word', binary=False, decode_error='strict',\n",
       "         dtype=<class 'numpy.float64'>, encoding='utf-8', input='content',\n",
       "         lowercase=True, max_df=1.0, max_features=None, min_df=1,\n",
       "         ngram_range=(1, 1), norm='l2', preprocessor=None, smooth_idf=True,\n",
       "         stop_words=None, strip_accents=None, sublinear_tf=False,\n",
       "         token_pattern='(?u)\\\\b\\\\w\\\\w+\\\\b', tokenizer=None, use_idf=True,\n",
       "         vocabulary=None)}"
      ]
     },
     "execution_count": 15,
     "metadata": {},
     "output_type": "execute_result"
    }
   ],
   "source": [
    "pipe_2 = Pipeline([\n",
    "    ('vectorizer', CountVectorizer()),\n",
    "    ('SVD', TruncatedSVD(n_components=12)),\n",
    "    ('classifier', DecisionTreeClassifier())\n",
    "])\n",
    "\n",
    "param_grid_2 = {\n",
    "            'vectorizer': [TfidfVectorizer(), \n",
    "                           CountVectorizer()],    \n",
    "            'classifier__max_depth': [5,10,30],\n",
    "            'classifier__min_samples_split': [2,5,10,50],\n",
    "            'classifier__max_leaf_nodes': [3,10,15,20,50]\n",
    "}\n",
    "\n",
    "kfold = StratifiedKFold(n_splits=5)\n",
    "\n",
    "grid_2 = GridSearchCV(pipe_2, param_grid_2, cv=kfold, return_train_score=True)\n",
    "\n",
    "grid_2.fit(X_train, y_train)\n",
    "grid_2.best_params_"
   ]
  },
  {
   "cell_type": "markdown",
   "metadata": {},
   "source": [
    "**Model SVC**"
   ]
  },
  {
   "cell_type": "code",
   "execution_count": 16,
   "metadata": {},
   "outputs": [
    {
     "data": {
      "text/plain": [
       "{'classifier__C': 100,\n",
       " 'classifier__gamma': 10,\n",
       " 'vectorizer': TfidfVectorizer(analyzer='word', binary=False, decode_error='strict',\n",
       "         dtype=<class 'numpy.float64'>, encoding='utf-8', input='content',\n",
       "         lowercase=True, max_df=1.0, max_features=None, min_df=1,\n",
       "         ngram_range=(1, 1), norm='l2', preprocessor=None, smooth_idf=True,\n",
       "         stop_words=None, strip_accents=None, sublinear_tf=False,\n",
       "         token_pattern='(?u)\\\\b\\\\w\\\\w+\\\\b', tokenizer=None, use_idf=True,\n",
       "         vocabulary=None)}"
      ]
     },
     "execution_count": 16,
     "metadata": {},
     "output_type": "execute_result"
    }
   ],
   "source": [
    "pipe_3 = Pipeline([\n",
    "    ('vectorizer', CountVectorizer()), \n",
    "    ('SVD', TruncatedSVD(n_components=12)),\n",
    "    ('classifier', SVC(C=1, probability=True))\n",
    "])\n",
    "\n",
    "param_grid_3 = {\n",
    "            'vectorizer': [TfidfVectorizer(), \n",
    "                           CountVectorizer()],\n",
    "            'classifier__C': [0.01, 0.1, 1, 10, 100,],\n",
    "            'classifier__gamma': [0.01, 0.1, 1, 10, 100]\n",
    "}\n",
    "\n",
    "kfold = StratifiedKFold(n_splits=5)\n",
    "\n",
    "grid_3 = GridSearchCV(pipe_3, param_grid_3, cv=kfold, return_train_score=True)\n",
    "\n",
    "grid_3.fit(X_train, y_train)\n",
    "grid_3.best_params_"
   ]
  },
  {
   "cell_type": "markdown",
   "metadata": {},
   "source": [
    "**Model Las Losowy**"
   ]
  },
  {
   "cell_type": "code",
   "execution_count": 17,
   "metadata": {},
   "outputs": [
    {
     "data": {
      "text/plain": [
       "{'classifier__max_depth': 10,\n",
       " 'classifier__max_leaf_nodes': 20,\n",
       " 'classifier__n_estimators': 50,\n",
       " 'vectorizer': TfidfVectorizer(analyzer='word', binary=False, decode_error='strict',\n",
       "         dtype=<class 'numpy.float64'>, encoding='utf-8', input='content',\n",
       "         lowercase=True, max_df=1.0, max_features=None, min_df=1,\n",
       "         ngram_range=(1, 1), norm='l2', preprocessor=None, smooth_idf=True,\n",
       "         stop_words=None, strip_accents=None, sublinear_tf=False,\n",
       "         token_pattern='(?u)\\\\b\\\\w\\\\w+\\\\b', tokenizer=None, use_idf=True,\n",
       "         vocabulary=None)}"
      ]
     },
     "execution_count": 17,
     "metadata": {},
     "output_type": "execute_result"
    }
   ],
   "source": [
    "pipe_4 = Pipeline([('vectorizer', CountVectorizer()),\n",
    "                   (\"SVD\", TruncatedSVD(n_components=12)),\n",
    "                   ('classifier', RandomForestClassifier(max_leaf_nodes=16))\n",
    "                  ])\n",
    "\n",
    "param_grid_4 = {\n",
    "            'vectorizer': [TfidfVectorizer(), \n",
    "                           CountVectorizer()],    \n",
    "            'classifier__n_estimators': [10, 50, 100],\n",
    "            'classifier__max_leaf_nodes': [10, 20],\n",
    "            'classifier__max_depth': [10, 20]\n",
    "             }\n",
    "\n",
    "kfold = StratifiedKFold(n_splits=5)\n",
    "\n",
    "grid_4 = GridSearchCV(pipe_4, param_grid_4, cv=kfold, return_train_score=True)\n",
    "\n",
    "grid_4.fit(X_train, y_train)\n",
    "grid_4.best_params_"
   ]
  },
  {
   "cell_type": "code",
   "execution_count": 18,
   "metadata": {},
   "outputs": [
    {
     "name": "stdout",
     "output_type": "stream",
     "text": [
      "Regresja logistyczna\n",
      "Precyzja: 0.6773442221314823\n",
      "Czułość: 0.62\n",
      "Miara F1 - średnia harmoniczna z precyzji i czułości: 0.6018775602239843\n",
      "Dokładność: 0.62\n",
      "\n",
      "\n",
      "Drzewo decyzyjne\n",
      "Precyzja: 0.6366627565982405\n",
      "Czułość: 0.6254545454545455\n",
      "Miara F1 - średnia harmoniczna z precyzji i czułości: 0.624483193317744\n",
      "Dokładność: 0.6254545454545455\n",
      "\n",
      "\n",
      "SVM\n",
      "Precyzja: 0.662657701636425\n",
      "Czułość: 0.649090909090909\n",
      "Miara F1 - średnia harmoniczna z precyzji i czułości: 0.6477448278621911\n",
      "Dokładność: 0.649090909090909\n",
      "\n",
      "\n",
      "Las Losowy\n",
      "Precyzja: 0.6811079291373439\n",
      "Czułość: 0.6527272727272727\n",
      "Miara F1 - średnia harmoniczna z precyzji i czułości: 0.6472350418580316\n",
      "Dokładność: 0.6527272727272727\n",
      "\n",
      "\n"
     ]
    }
   ],
   "source": [
    "modele = []\n",
    "modele.append(('Regresja logistyczna', grid_1.best_estimator_))\n",
    "modele.append(('Drzewo decyzyjne', grid_2.best_estimator_))\n",
    "modele.append(('SVM', grid_3.best_estimator_))\n",
    "modele.append(('Las Losowy', grid_4.best_estimator_))\n",
    "\n",
    "precision_score = []\n",
    "recall_score = []\n",
    "f1_score = []\n",
    "accuracy_score = []\n",
    "roc_auc_score = []\n",
    "for nazwa, model in modele:\n",
    "    print(nazwa)\n",
    "    print(\"Precyzja: {}\".format(metrics.precision_score(y_test , model.predict(X_test), average='weighted') ))\n",
    "    print(\"Czułość: {}\".format( metrics.recall_score(y_test , model.predict(X_test), average='weighted') ))\n",
    "    print(\"Miara F1 - średnia harmoniczna z precyzji i czułości: {}\".format( metrics.f1_score(y_test , model.predict(X_test), average='weighted') ))\n",
    "    print(\"Dokładność: {}\".format( metrics.accuracy_score(y_test , model.predict(X_test)) ))\n",
    "    print('\\n')\n",
    "    \n",
    "\n",
    "    precision_score.append(metrics.precision_score(y_test , model.predict(X_test), average='weighted') )\n",
    "    recall_score.append(metrics.recall_score(y_test , model.predict(X_test), average='weighted') )\n",
    "    f1_score.append( metrics.f1_score(y_test , model.predict(X_test), average='weighted') )\n",
    "    accuracy_score.append(metrics.accuracy_score(y_test , model.predict(X_test)))\n"
   ]
  },
  {
   "cell_type": "code",
   "execution_count": 19,
   "metadata": {},
   "outputs": [
    {
     "data": {
      "text/html": [
       "<div>\n",
       "<style scoped>\n",
       "    .dataframe tbody tr th:only-of-type {\n",
       "        vertical-align: middle;\n",
       "    }\n",
       "\n",
       "    .dataframe tbody tr th {\n",
       "        vertical-align: top;\n",
       "    }\n",
       "\n",
       "    .dataframe thead th {\n",
       "        text-align: right;\n",
       "    }\n",
       "</style>\n",
       "<table border=\"1\" class=\"dataframe\">\n",
       "  <thead>\n",
       "    <tr style=\"text-align: right;\">\n",
       "      <th></th>\n",
       "      <th>Model</th>\n",
       "      <th>Dokładność</th>\n",
       "    </tr>\n",
       "  </thead>\n",
       "  <tbody>\n",
       "    <tr>\n",
       "      <th>0</th>\n",
       "      <td>Regresja logistyczna</td>\n",
       "      <td>0.620000</td>\n",
       "    </tr>\n",
       "    <tr>\n",
       "      <th>1</th>\n",
       "      <td>Drzewo decyzyjne</td>\n",
       "      <td>0.625455</td>\n",
       "    </tr>\n",
       "    <tr>\n",
       "      <th>2</th>\n",
       "      <td>SVM</td>\n",
       "      <td>0.649091</td>\n",
       "    </tr>\n",
       "    <tr>\n",
       "      <th>3</th>\n",
       "      <td>Las Losowy</td>\n",
       "      <td>0.652727</td>\n",
       "    </tr>\n",
       "  </tbody>\n",
       "</table>\n",
       "</div>"
      ],
      "text/plain": [
       "                  Model  Dokładność\n",
       "0  Regresja logistyczna    0.620000\n",
       "1      Drzewo decyzyjne    0.625455\n",
       "2                   SVM    0.649091\n",
       "3            Las Losowy    0.652727"
      ]
     },
     "execution_count": 19,
     "metadata": {},
     "output_type": "execute_result"
    }
   ],
   "source": [
    "wyniki = pd.DataFrame({'Model': ['Regresja logistyczna', 'Drzewo decyzyjne', 'SVM', 'Las Losowy'],\n",
    "                                   'Dokładność': [accuracy_score[0],\n",
    "                                                  accuracy_score[1],\n",
    "                                                  accuracy_score[2],\n",
    "                                                  accuracy_score[3]]})\n",
    "wyniki"
   ]
  },
  {
   "cell_type": "markdown",
   "metadata": {},
   "source": [
    "Przed wykorzystaniem danych w modelach klasyfikacji, te zostały wcześniej wyczyszczone. W tym procesie wykonano: <br />\n",
    "- podział tweetów na słowa,\n",
    "- zamieniono wszystkie cyfry występujące w widomościach na słowo 'NUMBER',\n",
    "- zmieniono wszystkie znaki na nałe litery,\n",
    "- lematyzację,\n",
    "- usunięto interpunkcję,\n",
    "- usunięto najczęśniej uzywane słowa (stopwords),\n",
    "- zamieniono ciąg znaków \"n't\" na słowo \"negation\"<br /><br />\n",
    "\n",
    "Wszystkie modele dały zbliżone wyniki. Najlepiej z problemem klasyfikacji poradził sobie Las Losowy. Wynik 65% pokazuje jednak, że próba przewidzenia sentymentu wiadomości nie jest problemem łatwym do rozwiązania. <br />\n",
    "Model klasyfikujące treść, używane są na forach oraz portalach społecznościowych próbując wyłapać podejrzane treści np. rasistowskie lub nawołujące do przemocy. W mojej opinii modele sparametryzowane pod szukanie treści konkretnego tematu powinny dawać lepsze wyniki."
   ]
  }
 ],
 "metadata": {
  "kernelspec": {
   "display_name": "Python 3",
   "language": "python",
   "name": "python3"
  },
  "language_info": {
   "codemirror_mode": {
    "name": "ipython",
    "version": 3
   },
   "file_extension": ".py",
   "mimetype": "text/x-python",
   "name": "python",
   "nbconvert_exporter": "python",
   "pygments_lexer": "ipython3",
   "version": "3.7.1"
  }
 },
 "nbformat": 4,
 "nbformat_minor": 2
}
